{
 "cells": [
  {
   "cell_type": "code",
   "execution_count": 1,
   "metadata": {},
   "outputs": [],
   "source": [
    "#assigning patients to a \"good\" or \"bad\" outcome class and turn this into a classification problem.\n",
    "import pandas as pd\n",
    "import os"
   ]
  },
  {
   "cell_type": "code",
   "execution_count": 2,
   "metadata": {},
   "outputs": [],
   "source": [
    "radiomics_path = \"D:\\work\\ingham-medphys-coding-master\\ingham-medphys-coding-master\\data\\HN_Radiomics.csv\"\n",
    "clinical_data_path = \"D:\\work\\ingham-medphys-coding-master\\ingham-medphys-coding-master\\data\\HN_ClinicalData.csv\""
   ]
  },
  {
   "cell_type": "code",
   "execution_count": 3,
   "metadata": {},
   "outputs": [],
   "source": [
    "#Prepare all the data into the data framework\n",
    "df_clinical_data=pd.read_csv(clinical_data_path)\n",
    "df_radiomics=pd.read_csv(radiomics_path)\n",
    "#attact GTV data\n",
    "df_gtv_radiomics = df_radiomics[df_radiomics[\"Structure\"].str.startswith(\"GTV\")]\n",
    "df_gtv_radiomics = df_gtv_radiomics.groupby(\"id\")[[\"VoxelVolume\", \"SurfaceArea\"]].sum()\n",
    "#merge data into the clininal data\n",
    "df = df_clinical_data.merge(df_gtv_radiomics, on=\"id\")"
   ]
  },
  {
   "cell_type": "code",
   "execution_count": 4,
   "metadata": {},
   "outputs": [],
   "source": [
    "Train_Data=df[df[\"dataset\"]==\"train\"]\n",
    "Test_Data=df[df[\"dataset\"]==\"test\"]"
   ]
  },
  {
   "cell_type": "code",
   "execution_count": 5,
   "metadata": {},
   "outputs": [],
   "source": [
    "#to transfer the problem into the classification problem (the mean of the overall_survival_in_days is near 5 years)\n",
    "#overall_survival_data>1825 is good, otherwise is bad\n",
    "import numpy as np\n",
    "np.mean(df[\"overall_survival_in_days\"])\n",
    "for i, row in df.iterrows():\n",
    "    if df.at[i,'overall_survival_in_days']>1825:\n",
    "        df.at[i,'overall_survival_in_days'] = 1\n",
    "    else: \n",
    "        df.at[i,'overall_survival_in_days'] = 0"
   ]
  },
  {
   "cell_type": "code",
   "execution_count": 6,
   "metadata": {},
   "outputs": [],
   "source": [
    "Train_Data=df[df[\"dataset\"]==\"train\"]\n",
    "Test_Data=df[df[\"dataset\"]==\"test\"]"
   ]
  },
  {
   "cell_type": "code",
   "execution_count": 7,
   "metadata": {},
   "outputs": [
    {
     "data": {
      "text/plain": [
       "1     1\n",
       "13    0\n",
       "16    1\n",
       "21    1\n",
       "22    0\n",
       "Name: overall_survival_in_days, dtype: int64"
      ]
     },
     "execution_count": 7,
     "metadata": {},
     "output_type": "execute_result"
    }
   ],
   "source": [
    "Test_Data['overall_survival_in_days'].head()"
   ]
  },
  {
   "cell_type": "code",
   "execution_count": 9,
   "metadata": {},
   "outputs": [],
   "source": [
    "#Data cleaning, fill null, delete null and object data to int\n",
    "df_Train_Data = Train_Data.drop(['overall_hpv_p16_status', 'pretreat_hb_in_mmolperlitre'],axis=1)\n",
    "df_Test_Data = Test_Data.drop(['overall_hpv_p16_status', 'pretreat_hb_in_mmolperlitre'],axis=1)\n",
    "df_Train_Data['performance_status_ecog'].fillna(df_Train_Data['performance_status_ecog'].value_counts().index[0], inplace=True)\n",
    "df_Test_Data['performance_status_ecog'].fillna(df_Test_Data['performance_status_ecog'].value_counts().index[0], inplace=True)\n",
    "df_train=df_Train_Data\n",
    "df_test=df_Test_Data"
   ]
  },
  {
   "cell_type": "code",
   "execution_count": 10,
   "metadata": {},
   "outputs": [],
   "source": [
    "from sklearn.preprocessing import LabelEncoder\n",
    "# creating instance of labelencoder\n",
    "labelencoder = LabelEncoder()\n",
    "cols = ('index_tumour_location', 'biological_sex', 'ajcc_stage', 'cancer_surgery_performed', 'chemotherapy_given')\n",
    "# process columns, apply LabelEncoder to categorical features into numeric data\n",
    "for c in cols:\n",
    "    df_train[c] = labelencoder.fit_transform(df_train[c])\n",
    "    df_test[c] = labelencoder.fit_transform(df_test[c])"
   ]
  },
  {
   "cell_type": "code",
   "execution_count": 11,
   "metadata": {},
   "outputs": [],
   "source": [
    "x_train = df_train.drop(['id', 'dataset', 'overall_survival_in_days'], axis=1)\n",
    "Y_train = df_train[\"overall_survival_in_days\"]\n",
    "x = x_train.values\n",
    "y = Y_train.values"
   ]
  },
  {
   "cell_type": "code",
   "execution_count": 12,
   "metadata": {},
   "outputs": [],
   "source": [
    "x_test = df_test.drop(['id', 'dataset', 'overall_survival_in_days'], axis=1)\n",
    "Y_test = df_test[\"overall_survival_in_days\"]\n",
    "inputx = x_test.values\n",
    "outputy = Y_test.values"
   ]
  },
  {
   "cell_type": "code",
   "execution_count": 13,
   "metadata": {},
   "outputs": [],
   "source": [
    "#modeling\n",
    "import lightgbm as lgb\n",
    "from sklearn.metrics import confusion_matrix\n",
    "import seaborn as sns\n",
    "from sklearn.linear_model import LogisticRegression   #For K-fold cross validation\n",
    "from sklearn.ensemble import RandomForestClassifier\n",
    "from sklearn.tree import DecisionTreeClassifier, export_graphviz\n",
    "from sklearn.model_selection import KFold\n",
    "from sklearn.metrics import accuracy_score"
   ]
  },
  {
   "cell_type": "code",
   "execution_count": 14,
   "metadata": {},
   "outputs": [],
   "source": [
    "def classification_model(model, data, x_train, Y_train):\n",
    "  #Fit the model:\n",
    "  model.fit(x_train,Y_train)\n",
    "  \n",
    "  #Make predictions on training set:\n",
    "  predictions = model.predict(x_train)\n",
    "  \n",
    "  #Print accuracy\n",
    "  accuracy = accuracy_score(predictions,Y_train)\n",
    "  print(\"Accuracy : %s\" % \"{0:.3%}\".format(accuracy))\n",
    "\n",
    "  #Perform k-fold cross-validation with 5 folds\n",
    "  kf = KFold(n_splits=5).split(data)\n",
    "  error = []\n",
    "  for train, test in kf:\n",
    "    # Filter training data\n",
    "    train_predictors = (x_train.iloc[train,:])\n",
    "    \n",
    "    # The target we're using to train the algorithm.\n",
    "    train_target = Y_train.iloc[train]\n",
    "    \n",
    "    # Training the algorithm using the predictors and target.\n",
    "    model.fit(train_predictors, train_target)\n",
    "    \n",
    "    #Record error from each cross-validation run\n",
    "    error.append(model.score(x_train.iloc[test,:], Y_train.iloc[test]))\n",
    "    \n",
    "    print(\"Cross-Validation Score : %s\" % \"{0:.3%}\".format(np.mean(error)))\n",
    "    \n",
    "  #Fit the model again so that it can be refered outside the function:\n",
    "  model.fit(x_train,Y_train) "
   ]
  },
  {
   "cell_type": "code",
   "execution_count": 15,
   "metadata": {},
   "outputs": [
    {
     "name": "stdout",
     "output_type": "stream",
     "text": [
      "Accuracy : 97.059%\n",
      "Cross-Validation Score : 80.952%\n",
      "Cross-Validation Score : 85.714%\n",
      "Cross-Validation Score : 85.476%\n",
      "Cross-Validation Score : 87.857%\n",
      "Cross-Validation Score : 88.286%\n",
      "Accuracy : 77.143%\n"
     ]
    },
    {
     "name": "stderr",
     "output_type": "stream",
     "text": [
      "d:\\app\\python\\lib\\site-packages\\sklearn\\linear_model\\logistic.py:433: FutureWarning: Default solver will be changed to 'lbfgs' in 0.22. Specify a solver to silence this warning.\n",
      "  FutureWarning)\n",
      "d:\\app\\python\\lib\\site-packages\\sklearn\\linear_model\\logistic.py:433: FutureWarning: Default solver will be changed to 'lbfgs' in 0.22. Specify a solver to silence this warning.\n",
      "  FutureWarning)\n",
      "d:\\app\\python\\lib\\site-packages\\sklearn\\linear_model\\logistic.py:433: FutureWarning: Default solver will be changed to 'lbfgs' in 0.22. Specify a solver to silence this warning.\n",
      "  FutureWarning)\n",
      "d:\\app\\python\\lib\\site-packages\\sklearn\\linear_model\\logistic.py:433: FutureWarning: Default solver will be changed to 'lbfgs' in 0.22. Specify a solver to silence this warning.\n",
      "  FutureWarning)\n",
      "d:\\app\\python\\lib\\site-packages\\sklearn\\linear_model\\logistic.py:433: FutureWarning: Default solver will be changed to 'lbfgs' in 0.22. Specify a solver to silence this warning.\n",
      "  FutureWarning)\n",
      "d:\\app\\python\\lib\\site-packages\\sklearn\\linear_model\\logistic.py:433: FutureWarning: Default solver will be changed to 'lbfgs' in 0.22. Specify a solver to silence this warning.\n",
      "  FutureWarning)\n",
      "d:\\app\\python\\lib\\site-packages\\sklearn\\linear_model\\logistic.py:433: FutureWarning: Default solver will be changed to 'lbfgs' in 0.22. Specify a solver to silence this warning.\n",
      "  FutureWarning)\n"
     ]
    }
   ],
   "source": [
    "logmodel=LogisticRegression()\n",
    "classification_model(logmodel,df_train,x_train,Y_train)\n",
    "predictions = logmodel.predict(x_test)\n",
    "accuracy = accuracy_score(predictions,Y_test)\n",
    "print(\"Accuracy : %s\" % \"{0:.3%}\".format(accuracy))"
   ]
  },
  {
   "cell_type": "code",
   "execution_count": 16,
   "metadata": {},
   "outputs": [
    {
     "name": "stdout",
     "output_type": "stream",
     "text": [
      "Accuracy : 94.118%\n",
      "Cross-Validation Score : 85.714%\n",
      "Cross-Validation Score : 85.714%\n",
      "Cross-Validation Score : 88.810%\n",
      "Cross-Validation Score : 90.357%\n",
      "Cross-Validation Score : 88.286%\n",
      "Accuracy : 77.143%\n"
     ]
    }
   ],
   "source": [
    "ranmodel = RandomForestClassifier(n_estimators=100, min_samples_split=25, max_depth=7, max_features=2)\n",
    "classification_model(ranmodel,df_train,x_train,Y_train)\n",
    "predictions = ranmodel.predict(x_test)\n",
    "accuracy = accuracy_score(predictions,Y_test)\n",
    "print(\"Accuracy : %s\" % \"{0:.3%}\".format(accuracy))"
   ]
  },
  {
   "cell_type": "code",
   "execution_count": 17,
   "metadata": {},
   "outputs": [
    {
     "name": "stdout",
     "output_type": "stream",
     "text": [
      "Accuracy : 100.000%\n",
      "Cross-Validation Score : 85.714%\n",
      "Cross-Validation Score : 83.333%\n",
      "Cross-Validation Score : 87.222%\n",
      "Cross-Validation Score : 87.917%\n",
      "Cross-Validation Score : 87.333%\n",
      "Accuracy : 77.143%\n"
     ]
    }
   ],
   "source": [
    "decmodel = DecisionTreeClassifier()\n",
    "classification_model(decmodel,df_train,x_train,Y_train)\n",
    "predictions = decmodel.predict(x_test)\n",
    "accuracy = accuracy_score(predictions,Y_test)\n",
    "print(\"Accuracy : %s\" % \"{0:.3%}\".format(accuracy))"
   ]
  },
  {
   "cell_type": "code",
   "execution_count": 18,
   "metadata": {},
   "outputs": [
    {
     "name": "stdout",
     "output_type": "stream",
     "text": [
      "Accuracy : 100.000%\n",
      "Cross-Validation Score : 85.714%\n",
      "Cross-Validation Score : 85.714%\n",
      "Cross-Validation Score : 88.810%\n",
      "Cross-Validation Score : 90.357%\n",
      "Cross-Validation Score : 89.286%\n",
      "Accuracy : 80.000%\n"
     ]
    }
   ],
   "source": [
    "clf = lgb.LGBMClassifier()\n",
    "classification_model(clf,df_train,x_train,Y_train)\n",
    "predictions = clf.predict(x_test)\n",
    "accuracy = accuracy_score(predictions,Y_test)\n",
    "print(\"Accuracy : %s\" % \"{0:.3%}\".format(accuracy))"
   ]
  },
  {
   "cell_type": "code",
   "execution_count": 19,
   "metadata": {},
   "outputs": [
    {
     "name": "stdout",
     "output_type": "stream",
     "text": [
      "distant_metastases_in_days                        0.135343\n",
      "local_recurrence_in_days                          0.130342\n",
      "recurrence_metastatic_free_survival_in_days       0.126793\n",
      "locoregional_recurrence_in_days                   0.120530\n",
      "event_overall_survival                            0.100162\n",
      "SurfaceArea                                       0.053176\n",
      "VoxelVolume                                       0.042409\n",
      "age_at_diagnosis                                  0.040042\n",
      "event_recurrence_metastatic_free_survival         0.038594\n",
      "clin_n                                            0.030183\n",
      "ajcc_stage                                        0.027541\n",
      "radiotherapy_number_fractions_highriskgtv         0.025625\n",
      "event_locoregional_recurrence                     0.021567\n",
      "event_local_recurrence                            0.018128\n",
      "radiotherapy_total_treat_time                     0.017735\n",
      "radiotherapy_refgydose_total_highriskgtv          0.015947\n",
      "clin_t                                            0.014498\n",
      "event_distant_metastases                          0.013540\n",
      "radiotherapy_refgydose_perfraction_highriskgtv    0.009802\n",
      "index_tumour_location                             0.005233\n",
      "cancer_surgery_performed                          0.003589\n",
      "chemotherapy_given                                0.003508\n",
      "performance_status_ecog                           0.003220\n",
      "biological_sex                                    0.002493\n",
      "clin_m                                            0.000000\n",
      "dtype: float64\n"
     ]
    }
   ],
   "source": [
    "#improve the results with fewer features\n",
    "cols = list(x_train.columns)\n",
    "featimp = pd.Series(ranmodel.feature_importances_,index = cols).sort_values(ascending=False)\n",
    "print(featimp)"
   ]
  },
  {
   "cell_type": "code",
   "execution_count": 20,
   "metadata": {
    "scrolled": true
   },
   "outputs": [
    {
     "name": "stdout",
     "output_type": "stream",
     "text": [
      "<class 'pandas.core.frame.DataFrame'>\n",
      "Int64Index: 102 entries, 0 to 136\n",
      "Data columns (total 10 columns):\n",
      "distant_metastases_in_days                     102 non-null int64\n",
      "local_recurrence_in_days                       102 non-null int64\n",
      "recurrence_metastatic_free_survival_in_days    102 non-null int64\n",
      "locoregional_recurrence_in_days                102 non-null int64\n",
      "event_overall_survival                         102 non-null int64\n",
      "SurfaceArea                                    102 non-null float64\n",
      "VoxelVolume                                    102 non-null float64\n",
      "age_at_diagnosis                               102 non-null int64\n",
      "event_recurrence_metastatic_free_survival      102 non-null int64\n",
      "clin_n                                         102 non-null int64\n",
      "dtypes: float64(2), int64(8)\n",
      "memory usage: 8.8 KB\n",
      "<class 'pandas.core.frame.DataFrame'>\n",
      "Int64Index: 35 entries, 1 to 133\n",
      "Data columns (total 10 columns):\n",
      "distant_metastases_in_days                     35 non-null int64\n",
      "local_recurrence_in_days                       35 non-null int64\n",
      "recurrence_metastatic_free_survival_in_days    35 non-null int64\n",
      "locoregional_recurrence_in_days                35 non-null int64\n",
      "event_overall_survival                         35 non-null int64\n",
      "SurfaceArea                                    35 non-null float64\n",
      "VoxelVolume                                    35 non-null float64\n",
      "age_at_diagnosis                               35 non-null int64\n",
      "event_recurrence_metastatic_free_survival      35 non-null int64\n",
      "clin_n                                         35 non-null int64\n",
      "dtypes: float64(2), int64(8)\n",
      "memory usage: 3.0 KB\n"
     ]
    }
   ],
   "source": [
    "x_train=df_train[featimp[:10].index]\n",
    "x_test=df_test[featimp[:10].index]\n",
    "x_train.info()\n",
    "x_test.info()"
   ]
  },
  {
   "cell_type": "code",
   "execution_count": 21,
   "metadata": {},
   "outputs": [
    {
     "name": "stderr",
     "output_type": "stream",
     "text": [
      "d:\\app\\python\\lib\\site-packages\\sklearn\\preprocessing\\data.py:645: DataConversionWarning: Data with input dtype int64, float64 were all converted to float64 by StandardScaler.\n",
      "  return self.partial_fit(X, y)\n",
      "d:\\app\\python\\lib\\site-packages\\sklearn\\base.py:464: DataConversionWarning: Data with input dtype int64, float64 were all converted to float64 by StandardScaler.\n",
      "  return self.fit(X, **fit_params).transform(X)\n",
      "d:\\app\\python\\lib\\site-packages\\ipykernel_launcher.py:4: DataConversionWarning: Data with input dtype int64, float64 were all converted to float64 by StandardScaler.\n",
      "  after removing the cwd from sys.path.\n"
     ]
    }
   ],
   "source": [
    "from sklearn.preprocessing import StandardScaler\n",
    "sc = StandardScaler()\n",
    "X_train = sc.fit_transform(x_train)\n",
    "X_test = sc.transform(x_test)\n",
    "scaled_x_train = pd.DataFrame(X_train , index=x_train.index, columns=x_train.columns)\n",
    "scaled_x_test = pd.DataFrame(X_test , index=x_test.index, columns=x_test.columns)"
   ]
  },
  {
   "cell_type": "code",
   "execution_count": 22,
   "metadata": {},
   "outputs": [
    {
     "name": "stdout",
     "output_type": "stream",
     "text": [
      "Accuracy : 92.157%\n",
      "Cross-Validation Score : 80.952%\n",
      "Cross-Validation Score : 85.714%\n",
      "Cross-Validation Score : 88.810%\n",
      "Cross-Validation Score : 90.357%\n",
      "Cross-Validation Score : 88.286%\n",
      "Accuracy : 80.000%\n"
     ]
    }
   ],
   "source": [
    "ranmodel = RandomForestClassifier(n_estimators=100, min_samples_split=25, max_depth=7, max_features=2)\n",
    "classification_model(ranmodel,df_train,scaled_x_train,Y_train)\n",
    "predictions = ranmodel.predict(scaled_x_test)\n",
    "accuracy = accuracy_score(predictions,Y_test)\n",
    "print(\"Accuracy : %s\" % \"{0:.3%}\".format(accuracy))"
   ]
  },
  {
   "cell_type": "code",
   "execution_count": 23,
   "metadata": {},
   "outputs": [
    {
     "name": "stdout",
     "output_type": "stream",
     "text": [
      "Accuracy : 100.000%\n",
      "Cross-Validation Score : 85.714%\n",
      "Cross-Validation Score : 85.714%\n",
      "Cross-Validation Score : 88.810%\n",
      "Cross-Validation Score : 90.357%\n",
      "Cross-Validation Score : 89.286%\n",
      "Accuracy : 85.714%\n"
     ]
    }
   ],
   "source": [
    "clf = lgb.LGBMClassifier()\n",
    "classification_model(clf,df_train,scaled_x_train,Y_train)\n",
    "predictions = clf.predict(scaled_x_test)\n",
    "accuracy = accuracy_score(predictions,Y_test)\n",
    "print(\"Accuracy : %s\" % \"{0:.3%}\".format(accuracy))"
   ]
  },
  {
   "cell_type": "code",
   "execution_count": 24,
   "metadata": {},
   "outputs": [
    {
     "name": "stdout",
     "output_type": "stream",
     "text": [
      "Accuracy : 100.000%\n",
      "Cross-Validation Score : 90.476%\n",
      "Cross-Validation Score : 90.476%\n",
      "Cross-Validation Score : 90.317%\n",
      "Cross-Validation Score : 90.238%\n",
      "Cross-Validation Score : 88.190%\n",
      "Accuracy : 80.000%\n"
     ]
    }
   ],
   "source": [
    "decmodel = DecisionTreeClassifier()\n",
    "classification_model(decmodel,df_train,scaled_x_train,Y_train)\n",
    "predictions = decmodel.predict(scaled_x_test)\n",
    "accuracy = accuracy_score(predictions,Y_test)\n",
    "print(\"Accuracy : %s\" % \"{0:.3%}\".format(accuracy))"
   ]
  },
  {
   "cell_type": "code",
   "execution_count": 25,
   "metadata": {},
   "outputs": [
    {
     "name": "stdout",
     "output_type": "stream",
     "text": [
      "Accuracy : 94.118%\n",
      "Cross-Validation Score : 85.714%\n",
      "Cross-Validation Score : 90.476%\n",
      "Cross-Validation Score : 90.317%\n",
      "Cross-Validation Score : 92.738%\n",
      "Cross-Validation Score : 92.190%\n",
      "Accuracy : 91.429%\n"
     ]
    },
    {
     "name": "stderr",
     "output_type": "stream",
     "text": [
      "d:\\app\\python\\lib\\site-packages\\sklearn\\linear_model\\logistic.py:433: FutureWarning: Default solver will be changed to 'lbfgs' in 0.22. Specify a solver to silence this warning.\n",
      "  FutureWarning)\n",
      "d:\\app\\python\\lib\\site-packages\\sklearn\\linear_model\\logistic.py:433: FutureWarning: Default solver will be changed to 'lbfgs' in 0.22. Specify a solver to silence this warning.\n",
      "  FutureWarning)\n",
      "d:\\app\\python\\lib\\site-packages\\sklearn\\linear_model\\logistic.py:433: FutureWarning: Default solver will be changed to 'lbfgs' in 0.22. Specify a solver to silence this warning.\n",
      "  FutureWarning)\n",
      "d:\\app\\python\\lib\\site-packages\\sklearn\\linear_model\\logistic.py:433: FutureWarning: Default solver will be changed to 'lbfgs' in 0.22. Specify a solver to silence this warning.\n",
      "  FutureWarning)\n",
      "d:\\app\\python\\lib\\site-packages\\sklearn\\linear_model\\logistic.py:433: FutureWarning: Default solver will be changed to 'lbfgs' in 0.22. Specify a solver to silence this warning.\n",
      "  FutureWarning)\n",
      "d:\\app\\python\\lib\\site-packages\\sklearn\\linear_model\\logistic.py:433: FutureWarning: Default solver will be changed to 'lbfgs' in 0.22. Specify a solver to silence this warning.\n",
      "  FutureWarning)\n",
      "d:\\app\\python\\lib\\site-packages\\sklearn\\linear_model\\logistic.py:433: FutureWarning: Default solver will be changed to 'lbfgs' in 0.22. Specify a solver to silence this warning.\n",
      "  FutureWarning)\n"
     ]
    }
   ],
   "source": [
    "logmodel=LogisticRegression(random_state = 42,max_iter= 150)\n",
    "classification_model(logmodel,df_train,scaled_x_train,Y_train)\n",
    "predictions = logmodel.predict(scaled_x_test)\n",
    "accuracy = accuracy_score(predictions,Y_test)\n",
    "print(\"Accuracy : %s\" % \"{0:.3%}\".format(accuracy))"
   ]
  },
  {
   "cell_type": "code",
   "execution_count": 26,
   "metadata": {},
   "outputs": [
    {
     "name": "stderr",
     "output_type": "stream",
     "text": [
      "Using TensorFlow backend.\n"
     ]
    }
   ],
   "source": [
    "from keras import layers\n",
    "from keras import models\n",
    "from keras import optimizers\n",
    "from keras import losses\n",
    "from keras import regularizers\n",
    "from keras import metrics# add validation dataset"
   ]
  },
  {
   "cell_type": "code",
   "execution_count": 27,
   "metadata": {},
   "outputs": [
    {
     "name": "stderr",
     "output_type": "stream",
     "text": [
      "d:\\app\\python\\lib\\site-packages\\ipykernel_launcher.py:3: UserWarning: Update your `Dense` call to the Keras 2 API: `Dense(kernel_initializer=\"uniform\", activation=\"relu\", input_dim=10, units=6)`\n",
      "  This is separate from the ipykernel package so we can avoid doing imports until\n"
     ]
    },
    {
     "name": "stdout",
     "output_type": "stream",
     "text": [
      "WARNING:tensorflow:From d:\\app\\python\\lib\\site-packages\\tensorflow\\python\\framework\\op_def_library.py:263: colocate_with (from tensorflow.python.framework.ops) is deprecated and will be removed in a future version.\n",
      "Instructions for updating:\n",
      "Colocations handled automatically by placer.\n"
     ]
    },
    {
     "name": "stderr",
     "output_type": "stream",
     "text": [
      "d:\\app\\python\\lib\\site-packages\\ipykernel_launcher.py:5: UserWarning: Update your `Dense` call to the Keras 2 API: `Dense(kernel_initializer=\"uniform\", activation=\"relu\", units=6)`\n",
      "  \"\"\"\n",
      "d:\\app\\python\\lib\\site-packages\\ipykernel_launcher.py:6: UserWarning: Update your `Dense` call to the Keras 2 API: `Dense(kernel_initializer=\"uniform\", activation=\"sigmoid\", units=1)`\n",
      "  \n"
     ]
    }
   ],
   "source": [
    "classifier = models.Sequential()\n",
    "#add input layer and first hidden layer\n",
    "classifier.add(layers.Dense(output_dim = 6, kernel_initializer = \"uniform\", activation = \"relu\", input_dim = 10))\n",
    "#add 2nd hidden layer\n",
    "classifier.add(layers.Dense(output_dim = 6, kernel_initializer = \"uniform\", activation = \"relu\"))\n",
    "classifier.add(layers.Dense(output_dim = 1, kernel_initializer = \"uniform\", activation = \"sigmoid\"))\n",
    "classifier.compile(optimizer = \"Adam\", loss =\"binary_crossentropy\", metrics = [\"accuracy\"])"
   ]
  },
  {
   "cell_type": "code",
   "execution_count": 28,
   "metadata": {},
   "outputs": [
    {
     "name": "stdout",
     "output_type": "stream",
     "text": [
      "WARNING:tensorflow:From d:\\app\\python\\lib\\site-packages\\tensorflow\\python\\ops\\math_ops.py:3066: to_int32 (from tensorflow.python.ops.math_ops) is deprecated and will be removed in a future version.\n",
      "Instructions for updating:\n",
      "Use tf.cast instead.\n",
      "Epoch 1/100\n",
      "102/102 [==============================] - 2s 20ms/step - loss: 0.6930 - acc: 0.5196\n",
      "Epoch 2/100\n",
      "102/102 [==============================] - 0s 108us/step - loss: 0.6922 - acc: 0.5784\n",
      "Epoch 3/100\n",
      "102/102 [==============================] - 0s 127us/step - loss: 0.6912 - acc: 0.5784\n",
      "Epoch 4/100\n",
      "102/102 [==============================] - 0s 127us/step - loss: 0.6890 - acc: 0.5784\n",
      "Epoch 5/100\n",
      "102/102 [==============================] - 0s 136us/step - loss: 0.6856 - acc: 0.5784\n",
      "Epoch 6/100\n",
      "102/102 [==============================] - 0s 137us/step - loss: 0.6802 - acc: 0.5784\n",
      "Epoch 7/100\n",
      "102/102 [==============================] - 0s 118us/step - loss: 0.6718 - acc: 0.5784\n",
      "Epoch 8/100\n",
      "102/102 [==============================] - 0s 98us/step - loss: 0.6605 - acc: 0.5784\n",
      "Epoch 9/100\n",
      "102/102 [==============================] - 0s 127us/step - loss: 0.6443 - acc: 0.6471\n",
      "Epoch 10/100\n",
      "102/102 [==============================] - 0s 137us/step - loss: 0.6241 - acc: 0.7353\n",
      "Epoch 11/100\n",
      "102/102 [==============================] - 0s 147us/step - loss: 0.5998 - acc: 0.8627\n",
      "Epoch 12/100\n",
      "102/102 [==============================] - 0s 137us/step - loss: 0.5741 - acc: 0.9020\n",
      "Epoch 13/100\n",
      "102/102 [==============================] - 0s 136us/step - loss: 0.5448 - acc: 0.9020\n",
      "Epoch 14/100\n",
      "102/102 [==============================] - 0s 127us/step - loss: 0.5158 - acc: 0.9118\n",
      "Epoch 15/100\n",
      "102/102 [==============================] - 0s 108us/step - loss: 0.4891 - acc: 0.9118\n",
      "Epoch 16/100\n",
      "102/102 [==============================] - 0s 117us/step - loss: 0.4630 - acc: 0.9118\n",
      "Epoch 17/100\n",
      "102/102 [==============================] - 0s 137us/step - loss: 0.4396 - acc: 0.9118\n",
      "Epoch 18/100\n",
      "102/102 [==============================] - 0s 127us/step - loss: 0.4169 - acc: 0.9118\n",
      "Epoch 19/100\n",
      "102/102 [==============================] - 0s 137us/step - loss: 0.3955 - acc: 0.9118\n",
      "Epoch 20/100\n",
      "102/102 [==============================] - 0s 137us/step - loss: 0.3751 - acc: 0.9118\n",
      "Epoch 21/100\n",
      "102/102 [==============================] - 0s 98us/step - loss: 0.3555 - acc: 0.9216\n",
      "Epoch 22/100\n",
      "102/102 [==============================] - 0s 117us/step - loss: 0.3378 - acc: 0.9216\n",
      "Epoch 23/100\n",
      "102/102 [==============================] - 0s 127us/step - loss: 0.3202 - acc: 0.9118\n",
      "Epoch 24/100\n",
      "102/102 [==============================] - 0s 127us/step - loss: 0.3055 - acc: 0.9118\n",
      "Epoch 25/100\n",
      "102/102 [==============================] - 0s 137us/step - loss: 0.2900 - acc: 0.9020\n",
      "Epoch 26/100\n",
      "102/102 [==============================] - 0s 117us/step - loss: 0.2774 - acc: 0.9020\n",
      "Epoch 27/100\n",
      "102/102 [==============================] - 0s 108us/step - loss: 0.2642 - acc: 0.9020\n",
      "Epoch 28/100\n",
      "102/102 [==============================] - ETA: 0s - loss: 0.3594 - acc: 0.700 - 0s 117us/step - loss: 0.2541 - acc: 0.9020\n",
      "Epoch 29/100\n",
      "102/102 [==============================] - ETA: 0s - loss: 0.2422 - acc: 0.900 - 0s 127us/step - loss: 0.2449 - acc: 0.9118\n",
      "Epoch 30/100\n",
      "102/102 [==============================] - 0s 137us/step - loss: 0.2363 - acc: 0.9216\n",
      "Epoch 31/100\n",
      "102/102 [==============================] - 0s 147us/step - loss: 0.2284 - acc: 0.9216\n",
      "Epoch 32/100\n",
      "102/102 [==============================] - 0s 117us/step - loss: 0.2204 - acc: 0.9216\n",
      "Epoch 33/100\n",
      "102/102 [==============================] - 0s 137us/step - loss: 0.2143 - acc: 0.9314\n",
      "Epoch 34/100\n",
      "102/102 [==============================] - 0s 88us/step - loss: 0.2080 - acc: 0.9314\n",
      "Epoch 35/100\n",
      "102/102 [==============================] - 0s 117us/step - loss: 0.2029 - acc: 0.9314\n",
      "Epoch 36/100\n",
      "102/102 [==============================] - 0s 127us/step - loss: 0.1982 - acc: 0.9412\n",
      "Epoch 37/100\n",
      "102/102 [==============================] - 0s 137us/step - loss: 0.1936 - acc: 0.9412\n",
      "Epoch 38/100\n",
      "102/102 [==============================] - 0s 137us/step - loss: 0.1898 - acc: 0.9412\n",
      "Epoch 39/100\n",
      "102/102 [==============================] - 0s 117us/step - loss: 0.1867 - acc: 0.9412\n",
      "Epoch 40/100\n",
      "102/102 [==============================] - 0s 88us/step - loss: 0.1831 - acc: 0.9412\n",
      "Epoch 41/100\n",
      "102/102 [==============================] - 0s 117us/step - loss: 0.1798 - acc: 0.9412\n",
      "Epoch 42/100\n",
      "102/102 [==============================] - 0s 127us/step - loss: 0.1771 - acc: 0.9412\n",
      "Epoch 43/100\n",
      "102/102 [==============================] - 0s 137us/step - loss: 0.1750 - acc: 0.9412\n",
      "Epoch 44/100\n",
      "102/102 [==============================] - 0s 108us/step - loss: 0.1722 - acc: 0.9412\n",
      "Epoch 45/100\n",
      "102/102 [==============================] - 0s 117us/step - loss: 0.1697 - acc: 0.9412\n",
      "Epoch 46/100\n",
      "102/102 [==============================] - 0s 147us/step - loss: 0.1680 - acc: 0.9412\n",
      "Epoch 47/100\n",
      "102/102 [==============================] - 0s 98us/step - loss: 0.1658 - acc: 0.9412\n",
      "Epoch 48/100\n",
      "102/102 [==============================] - 0s 147us/step - loss: 0.1637 - acc: 0.9412\n",
      "Epoch 49/100\n",
      "102/102 [==============================] - 0s 127us/step - loss: 0.1621 - acc: 0.9412\n",
      "Epoch 50/100\n",
      "102/102 [==============================] - ETA: 0s - loss: 0.1012 - acc: 1.000 - 0s 147us/step - loss: 0.1604 - acc: 0.9412\n",
      "Epoch 51/100\n",
      "102/102 [==============================] - 0s 108us/step - loss: 0.1589 - acc: 0.9412\n",
      "Epoch 52/100\n",
      "102/102 [==============================] - 0s 137us/step - loss: 0.1574 - acc: 0.9412\n",
      "Epoch 53/100\n",
      "102/102 [==============================] - 0s 108us/step - loss: 0.1557 - acc: 0.9412\n",
      "Epoch 54/100\n",
      "102/102 [==============================] - 0s 117us/step - loss: 0.1546 - acc: 0.9412\n",
      "Epoch 55/100\n",
      "102/102 [==============================] - 0s 117us/step - loss: 0.1537 - acc: 0.9412\n",
      "Epoch 56/100\n",
      "102/102 [==============================] - 0s 117us/step - loss: 0.1523 - acc: 0.9412\n",
      "Epoch 57/100\n",
      "102/102 [==============================] - 0s 156us/step - loss: 0.1511 - acc: 0.9412\n",
      "Epoch 58/100\n",
      "102/102 [==============================] - 0s 137us/step - loss: 0.1501 - acc: 0.9412\n",
      "Epoch 59/100\n",
      "102/102 [==============================] - 0s 147us/step - loss: 0.1489 - acc: 0.9412\n",
      "Epoch 60/100\n",
      "102/102 [==============================] - 0s 127us/step - loss: 0.1473 - acc: 0.9412\n",
      "Epoch 61/100\n",
      "102/102 [==============================] - 0s 127us/step - loss: 0.1462 - acc: 0.9412\n",
      "Epoch 62/100\n",
      "102/102 [==============================] - 0s 108us/step - loss: 0.1451 - acc: 0.9412\n",
      "Epoch 63/100\n",
      "102/102 [==============================] - 0s 127us/step - loss: 0.1437 - acc: 0.9412\n",
      "Epoch 64/100\n",
      "102/102 [==============================] - 0s 137us/step - loss: 0.1421 - acc: 0.9412\n",
      "Epoch 65/100\n",
      "102/102 [==============================] - 0s 117us/step - loss: 0.1411 - acc: 0.9412\n",
      "Epoch 66/100\n",
      "102/102 [==============================] - 0s 127us/step - loss: 0.1397 - acc: 0.9412\n",
      "Epoch 67/100\n",
      "102/102 [==============================] - 0s 117us/step - loss: 0.1389 - acc: 0.9412\n",
      "Epoch 68/100\n",
      "102/102 [==============================] - 0s 108us/step - loss: 0.1375 - acc: 0.9412\n",
      "Epoch 69/100\n",
      "102/102 [==============================] - 0s 108us/step - loss: 0.1365 - acc: 0.9412\n",
      "Epoch 70/100\n",
      "102/102 [==============================] - 0s 108us/step - loss: 0.1357 - acc: 0.9412\n",
      "Epoch 71/100\n",
      "102/102 [==============================] - 0s 108us/step - loss: 0.1345 - acc: 0.9412\n",
      "Epoch 72/100\n",
      "102/102 [==============================] - 0s 108us/step - loss: 0.1336 - acc: 0.9412\n",
      "Epoch 73/100\n",
      "102/102 [==============================] - 0s 108us/step - loss: 0.1324 - acc: 0.9412\n",
      "Epoch 74/100\n",
      "102/102 [==============================] - 0s 108us/step - loss: 0.1318 - acc: 0.9510\n",
      "Epoch 75/100\n",
      "102/102 [==============================] - 0s 127us/step - loss: 0.1308 - acc: 0.9510\n",
      "Epoch 76/100\n",
      "102/102 [==============================] - 0s 147us/step - loss: 0.1298 - acc: 0.9510\n",
      "Epoch 77/100\n",
      "102/102 [==============================] - 0s 166us/step - loss: 0.1289 - acc: 0.9510\n",
      "Epoch 78/100\n",
      "102/102 [==============================] - 0s 156us/step - loss: 0.1275 - acc: 0.9510\n",
      "Epoch 79/100\n",
      "102/102 [==============================] - 0s 166us/step - loss: 0.1268 - acc: 0.9510\n",
      "Epoch 80/100\n"
     ]
    },
    {
     "name": "stdout",
     "output_type": "stream",
     "text": [
      "102/102 [==============================] - 0s 137us/step - loss: 0.1259 - acc: 0.9510\n",
      "Epoch 81/100\n",
      "102/102 [==============================] - 0s 117us/step - loss: 0.1248 - acc: 0.9510\n",
      "Epoch 82/100\n",
      "102/102 [==============================] - 0s 98us/step - loss: 0.1238 - acc: 0.9510\n",
      "Epoch 83/100\n",
      "102/102 [==============================] - 0s 117us/step - loss: 0.1229 - acc: 0.9510\n",
      "Epoch 84/100\n",
      "102/102 [==============================] - 0s 98us/step - loss: 0.1221 - acc: 0.9510\n",
      "Epoch 85/100\n",
      "102/102 [==============================] - 0s 88us/step - loss: 0.1213 - acc: 0.9510\n",
      "Epoch 86/100\n",
      "102/102 [==============================] - 0s 98us/step - loss: 0.1205 - acc: 0.9510\n",
      "Epoch 87/100\n",
      "102/102 [==============================] - 0s 98us/step - loss: 0.1198 - acc: 0.9510\n",
      "Epoch 88/100\n",
      "102/102 [==============================] - 0s 88us/step - loss: 0.1189 - acc: 0.9510\n",
      "Epoch 89/100\n",
      "102/102 [==============================] - 0s 98us/step - loss: 0.1181 - acc: 0.9510\n",
      "Epoch 90/100\n",
      "102/102 [==============================] - 0s 108us/step - loss: 0.1174 - acc: 0.9510\n",
      "Epoch 91/100\n",
      "102/102 [==============================] - 0s 88us/step - loss: 0.1168 - acc: 0.9510\n",
      "Epoch 92/100\n",
      "102/102 [==============================] - 0s 107us/step - loss: 0.1160 - acc: 0.9510\n",
      "Epoch 93/100\n",
      "102/102 [==============================] - 0s 98us/step - loss: 0.1154 - acc: 0.9510\n",
      "Epoch 94/100\n",
      "102/102 [==============================] - 0s 88us/step - loss: 0.1146 - acc: 0.9510\n",
      "Epoch 95/100\n",
      "102/102 [==============================] - 0s 108us/step - loss: 0.1130 - acc: 0.9510\n",
      "Epoch 96/100\n",
      "102/102 [==============================] - 0s 88us/step - loss: 0.1114 - acc: 0.9510\n",
      "Epoch 97/100\n",
      "102/102 [==============================] - 0s 88us/step - loss: 0.1105 - acc: 0.9510\n",
      "Epoch 98/100\n",
      "102/102 [==============================] - 0s 88us/step - loss: 0.1095 - acc: 0.9510\n",
      "Epoch 99/100\n",
      "102/102 [==============================] - 0s 98us/step - loss: 0.1088 - acc: 0.9510\n",
      "Epoch 100/100\n",
      "102/102 [==============================] - 0s 98us/step - loss: 0.1079 - acc: 0.9510\n"
     ]
    },
    {
     "data": {
      "text/plain": [
       "<keras.callbacks.History at 0x215f72c8dd8>"
      ]
     },
     "execution_count": 28,
     "metadata": {},
     "output_type": "execute_result"
    }
   ],
   "source": [
    "#classifier.fit(scaled_x_train,Y_train, batch_size = 10, epochs = 100)\n",
    "\n",
    "classifier.fit(scaled_x_train, Y_train, batch_size = 10, epochs = 100)"
   ]
  },
  {
   "cell_type": "code",
   "execution_count": 29,
   "metadata": {},
   "outputs": [
    {
     "name": "stdout",
     "output_type": "stream",
     "text": [
      "Accuracy : 88.571%\n"
     ]
    }
   ],
   "source": [
    "predictions = classifier.predict(scaled_x_test)\n",
    "new_prediction = (predictions > 0.5)\n",
    "accuracy = accuracy_score(new_prediction,Y_test)\n",
    "print(\"Accuracy : %s\" % \"{0:.3%}\".format(accuracy))"
   ]
  },
  {
   "cell_type": "code",
   "execution_count": 30,
   "metadata": {},
   "outputs": [],
   "source": [
    "from sklearn import svm"
   ]
  },
  {
   "cell_type": "code",
   "execution_count": 31,
   "metadata": {},
   "outputs": [
    {
     "name": "stdout",
     "output_type": "stream",
     "text": [
      "Accuracy : 94.118%\n",
      "Cross-Validation Score : 85.714%\n",
      "Cross-Validation Score : 88.095%\n",
      "Cross-Validation Score : 90.397%\n",
      "Cross-Validation Score : 92.798%\n",
      "Cross-Validation Score : 92.238%\n",
      "Accuracy : 88.571%\n"
     ]
    },
    {
     "name": "stderr",
     "output_type": "stream",
     "text": [
      "d:\\app\\python\\lib\\site-packages\\sklearn\\svm\\base.py:196: FutureWarning: The default value of gamma will change from 'auto' to 'scale' in version 0.22 to account better for unscaled features. Set gamma explicitly to 'auto' or 'scale' to avoid this warning.\n",
      "  \"avoid this warning.\", FutureWarning)\n",
      "d:\\app\\python\\lib\\site-packages\\sklearn\\svm\\base.py:196: FutureWarning: The default value of gamma will change from 'auto' to 'scale' in version 0.22 to account better for unscaled features. Set gamma explicitly to 'auto' or 'scale' to avoid this warning.\n",
      "  \"avoid this warning.\", FutureWarning)\n",
      "d:\\app\\python\\lib\\site-packages\\sklearn\\svm\\base.py:196: FutureWarning: The default value of gamma will change from 'auto' to 'scale' in version 0.22 to account better for unscaled features. Set gamma explicitly to 'auto' or 'scale' to avoid this warning.\n",
      "  \"avoid this warning.\", FutureWarning)\n",
      "d:\\app\\python\\lib\\site-packages\\sklearn\\svm\\base.py:196: FutureWarning: The default value of gamma will change from 'auto' to 'scale' in version 0.22 to account better for unscaled features. Set gamma explicitly to 'auto' or 'scale' to avoid this warning.\n",
      "  \"avoid this warning.\", FutureWarning)\n",
      "d:\\app\\python\\lib\\site-packages\\sklearn\\svm\\base.py:196: FutureWarning: The default value of gamma will change from 'auto' to 'scale' in version 0.22 to account better for unscaled features. Set gamma explicitly to 'auto' or 'scale' to avoid this warning.\n",
      "  \"avoid this warning.\", FutureWarning)\n"
     ]
    }
   ],
   "source": [
    "svmr= svm.SVC(kernel='rbf')\n",
    "classification_model(svmr,df_train,scaled_x_train,Y_train)\n",
    "predictions = svmr.predict(scaled_x_test)\n",
    "accuracy = accuracy_score(predictions,Y_test)\n",
    "print(\"Accuracy : %s\" % \"{0:.3%}\".format(accuracy))"
   ]
  },
  {
   "cell_type": "code",
   "execution_count": 32,
   "metadata": {},
   "outputs": [
    {
     "name": "stdout",
     "output_type": "stream",
     "text": [
      "Confusion matrix\n",
      "\n",
      " [[ 9  2]\n",
      " [ 1 23]]\n",
      "\n",
      "True Positives(TP) =  9\n",
      "\n",
      "True Negatives(TN) =  23\n",
      "\n",
      "False Positives(FP) =  2\n",
      "\n",
      "False Negatives(FN) =  1\n"
     ]
    }
   ],
   "source": [
    "from sklearn.metrics import confusion_matrix\n",
    "import seaborn as sns\n",
    "cm = confusion_matrix(logmodel.predict(scaled_x_test), Y_test)\n",
    "print('Confusion matrix\\n\\n', cm)\n",
    "print('\\nTrue Positives(TP) = ', cm[0,0])\n",
    "print('\\nTrue Negatives(TN) = ', cm[1,1])\n",
    "print('\\nFalse Positives(FP) = ', cm[0,1])\n",
    "print('\\nFalse Negatives(FN) = ', cm[1,0])"
   ]
  },
  {
   "cell_type": "code",
   "execution_count": 33,
   "metadata": {},
   "outputs": [
    {
     "data": {
      "text/plain": [
       "<matplotlib.axes._subplots.AxesSubplot at 0x215fe999518>"
      ]
     },
     "execution_count": 33,
     "metadata": {},
     "output_type": "execute_result"
    },
    {
     "data": {
      "image/png": "[encoded data removed]",
      "text/plain": [
       "<Figure size 432x288 with 2 Axes>"
      ]
     },
     "metadata": {
      "needs_background": "light"
     },
     "output_type": "display_data"
    }
   ],
   "source": [
    "cm_matrix = pd.DataFrame(data=cm, columns=['Actual Positive:1', 'Actual Negative:0'], \n",
    "                                 index=['Predict Positive:1', 'Predict Negative:0'])\n",
    "\n",
    "sns.heatmap(cm_matrix, annot=True, fmt='d', cmap='YlGnBu')"
   ]
  },
  {
   "cell_type": "code",
   "execution_count": 34,
   "metadata": {},
   "outputs": [
    {
     "name": "stderr",
     "output_type": "stream",
     "text": [
      "d:\\app\\python\\lib\\site-packages\\sklearn\\preprocessing\\data.py:645: DataConversionWarning: Data with input dtype int32, int64, float64 were all converted to float64 by StandardScaler.\n",
      "  return self.partial_fit(X, y)\n",
      "d:\\app\\python\\lib\\site-packages\\sklearn\\base.py:464: DataConversionWarning: Data with input dtype int32, int64, float64 were all converted to float64 by StandardScaler.\n",
      "  return self.fit(X, **fit_params).transform(X)\n",
      "d:\\app\\python\\lib\\site-packages\\ipykernel_launcher.py:8: DataConversionWarning: Data with input dtype int32, int64, float64 were all converted to float64 by StandardScaler.\n",
      "  \n"
     ]
    }
   ],
   "source": [
    "x_train_re =df_train.drop(['id', 'dataset', 'overall_survival_in_days','recurrence_metastatic_free_survival_in_days'], axis=1)\n",
    "x_test_re =df_test.drop(['id', 'dataset', 'overall_survival_in_days','recurrence_metastatic_free_survival_in_days'], axis=1)\n",
    "Y_train_re = df_train[\"recurrence_metastatic_free_survival_in_days\"]\n",
    "Y_test_re = df_test[\"recurrence_metastatic_free_survival_in_days\"]\n",
    "Y_train_re = (Y_train_re > 1825)\n",
    "Y_test_re = (Y_test_re > 1825)\n",
    "X_train_re = sc.fit_transform(x_train_re)\n",
    "X_test_re= sc.transform(x_test_re)\n",
    "scaled_x_train_re = pd.DataFrame(X_train_re , index=x_train_re.index, columns=x_train_re.columns)\n",
    "scaled_x_test_re = pd.DataFrame(X_test_re , index=x_test_re.index, columns=x_test_re.columns)"
   ]
  },
  {
   "cell_type": "code",
   "execution_count": 35,
   "metadata": {},
   "outputs": [
    {
     "name": "stdout",
     "output_type": "stream",
     "text": [
      "Accuracy : 98.039%\n",
      "Cross-Validation Score : 95.238%\n",
      "Cross-Validation Score : 92.857%\n",
      "Cross-Validation Score : 90.238%\n",
      "Cross-Validation Score : 91.429%\n",
      "Cross-Validation Score : 92.143%\n",
      "Accuracy : 88.571%\n"
     ]
    },
    {
     "name": "stderr",
     "output_type": "stream",
     "text": [
      "d:\\app\\python\\lib\\site-packages\\sklearn\\linear_model\\logistic.py:433: FutureWarning: Default solver will be changed to 'lbfgs' in 0.22. Specify a solver to silence this warning.\n",
      "  FutureWarning)\n",
      "d:\\app\\python\\lib\\site-packages\\sklearn\\linear_model\\logistic.py:433: FutureWarning: Default solver will be changed to 'lbfgs' in 0.22. Specify a solver to silence this warning.\n",
      "  FutureWarning)\n",
      "d:\\app\\python\\lib\\site-packages\\sklearn\\linear_model\\logistic.py:433: FutureWarning: Default solver will be changed to 'lbfgs' in 0.22. Specify a solver to silence this warning.\n",
      "  FutureWarning)\n",
      "d:\\app\\python\\lib\\site-packages\\sklearn\\linear_model\\logistic.py:433: FutureWarning: Default solver will be changed to 'lbfgs' in 0.22. Specify a solver to silence this warning.\n",
      "  FutureWarning)\n",
      "d:\\app\\python\\lib\\site-packages\\sklearn\\linear_model\\logistic.py:433: FutureWarning: Default solver will be changed to 'lbfgs' in 0.22. Specify a solver to silence this warning.\n",
      "  FutureWarning)\n",
      "d:\\app\\python\\lib\\site-packages\\sklearn\\linear_model\\logistic.py:433: FutureWarning: Default solver will be changed to 'lbfgs' in 0.22. Specify a solver to silence this warning.\n",
      "  FutureWarning)\n",
      "d:\\app\\python\\lib\\site-packages\\sklearn\\linear_model\\logistic.py:433: FutureWarning: Default solver will be changed to 'lbfgs' in 0.22. Specify a solver to silence this warning.\n",
      "  FutureWarning)\n"
     ]
    }
   ],
   "source": [
    "logmodel=LogisticRegression(random_state = 42,max_iter= 150)\n",
    "classification_model(logmodel,df_train,scaled_x_train_re,Y_train_re)\n",
    "predictions = logmodel.predict(scaled_x_test_re)\n",
    "accuracy = accuracy_score(predictions,Y_test_re)\n",
    "print(\"Accuracy : %s\" % \"{0:.3%}\".format(accuracy))"
   ]
  },
  {
   "cell_type": "code",
   "execution_count": 36,
   "metadata": {},
   "outputs": [
    {
     "name": "stdout",
     "output_type": "stream",
     "text": [
      "Accuracy : 98.039%\n",
      "Cross-Validation Score : 95.238%\n",
      "Cross-Validation Score : 95.238%\n",
      "Cross-Validation Score : 93.492%\n",
      "Cross-Validation Score : 93.869%\n",
      "Cross-Validation Score : 94.095%\n",
      "Accuracy : 85.714%\n"
     ]
    },
    {
     "name": "stderr",
     "output_type": "stream",
     "text": [
      "d:\\app\\python\\lib\\site-packages\\sklearn\\svm\\base.py:196: FutureWarning: The default value of gamma will change from 'auto' to 'scale' in version 0.22 to account better for unscaled features. Set gamma explicitly to 'auto' or 'scale' to avoid this warning.\n",
      "  \"avoid this warning.\", FutureWarning)\n",
      "d:\\app\\python\\lib\\site-packages\\sklearn\\svm\\base.py:196: FutureWarning: The default value of gamma will change from 'auto' to 'scale' in version 0.22 to account better for unscaled features. Set gamma explicitly to 'auto' or 'scale' to avoid this warning.\n",
      "  \"avoid this warning.\", FutureWarning)\n",
      "d:\\app\\python\\lib\\site-packages\\sklearn\\svm\\base.py:196: FutureWarning: The default value of gamma will change from 'auto' to 'scale' in version 0.22 to account better for unscaled features. Set gamma explicitly to 'auto' or 'scale' to avoid this warning.\n",
      "  \"avoid this warning.\", FutureWarning)\n",
      "d:\\app\\python\\lib\\site-packages\\sklearn\\svm\\base.py:196: FutureWarning: The default value of gamma will change from 'auto' to 'scale' in version 0.22 to account better for unscaled features. Set gamma explicitly to 'auto' or 'scale' to avoid this warning.\n",
      "  \"avoid this warning.\", FutureWarning)\n",
      "d:\\app\\python\\lib\\site-packages\\sklearn\\svm\\base.py:196: FutureWarning: The default value of gamma will change from 'auto' to 'scale' in version 0.22 to account better for unscaled features. Set gamma explicitly to 'auto' or 'scale' to avoid this warning.\n",
      "  \"avoid this warning.\", FutureWarning)\n",
      "d:\\app\\python\\lib\\site-packages\\sklearn\\svm\\base.py:196: FutureWarning: The default value of gamma will change from 'auto' to 'scale' in version 0.22 to account better for unscaled features. Set gamma explicitly to 'auto' or 'scale' to avoid this warning.\n",
      "  \"avoid this warning.\", FutureWarning)\n",
      "d:\\app\\python\\lib\\site-packages\\sklearn\\svm\\base.py:196: FutureWarning: The default value of gamma will change from 'auto' to 'scale' in version 0.22 to account better for unscaled features. Set gamma explicitly to 'auto' or 'scale' to avoid this warning.\n",
      "  \"avoid this warning.\", FutureWarning)\n"
     ]
    }
   ],
   "source": [
    "svmr= svm.SVC(kernel='rbf')\n",
    "classification_model(svmr,df_train,scaled_x_train_re,Y_train_re)\n",
    "predictions = svmr.predict(scaled_x_test_re)\n",
    "accuracy = accuracy_score(predictions,Y_test_re)\n",
    "print(\"Accuracy : %s\" % \"{0:.3%}\".format(accuracy))"
   ]
  },
  {
   "cell_type": "code",
   "execution_count": 37,
   "metadata": {},
   "outputs": [
    {
     "name": "stdout",
     "output_type": "stream",
     "text": [
      "Confusion matrix\n",
      "\n",
      " [[21  1]\n",
      " [ 3 10]]\n",
      "\n",
      "True Positives(TP) =  21\n",
      "\n",
      "True Negatives(TN) =  10\n",
      "\n",
      "False Positives(FP) =  1\n",
      "\n",
      "False Negatives(FN) =  3\n"
     ]
    }
   ],
   "source": [
    "cm = confusion_matrix(logmodel.predict(scaled_x_test_re), Y_test_re)\n",
    "print('Confusion matrix\\n\\n', cm)\n",
    "print('\\nTrue Positives(TP) = ', cm[0,0])\n",
    "print('\\nTrue Negatives(TN) = ', cm[1,1])\n",
    "print('\\nFalse Positives(FP) = ', cm[0,1])\n",
    "print('\\nFalse Negatives(FN) = ', cm[1,0])"
   ]
  },
  {
   "cell_type": "code",
   "execution_count": 38,
   "metadata": {},
   "outputs": [
    {
     "data": {
      "text/plain": [
       "<matplotlib.axes._subplots.AxesSubplot at 0x215fead2358>"
      ]
     },
     "execution_count": 38,
     "metadata": {},
     "output_type": "execute_result"
    },
    {
     "data": {
      "image/png": "[encoded data removed]",
      "text/plain": [
       "<Figure size 432x288 with 2 Axes>"
      ]
     },
     "metadata": {
      "needs_background": "light"
     },
     "output_type": "display_data"
    }
   ],
   "source": [
    "cm_matrix = pd.DataFrame(data=cm, columns=['Actual Positive:1', 'Actual Negative:0'], \n",
    "                                 index=['Predict Positive:1', 'Predict Negative:0'])\n",
    "\n",
    "sns.heatmap(cm_matrix, annot=True, fmt='d', cmap='YlGnBu')"
   ]
  },
  {
   "cell_type": "code",
   "execution_count": null,
   "metadata": {},
   "outputs": [],
   "source": []
  }
 ],
 "metadata": {
  "kernelspec": {
   "display_name": "Python 3",
   "language": "python",
   "name": "python3"
  },
  "language_info": {
   "codemirror_mode": {
    "name": "ipython",
    "version": 3
   },
   "file_extension": ".py",
   "mimetype": "text/x-python",
   "name": "python",
   "nbconvert_exporter": "python",
   "pygments_lexer": "ipython3",
   "version": "3.6.7"
  }
 },
 "nbformat": 4,
 "nbformat_minor": 2
}
