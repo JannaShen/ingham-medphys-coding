{
 "cells": [
  {
   "cell_type": "code",
   "execution_count": 1,
   "metadata": {},
   "outputs": [],
   "source": [
    "import pandas as pd\n",
    "import os"
   ]
  },
  {
   "cell_type": "code",
   "execution_count": 2,
   "metadata": {},
   "outputs": [],
   "source": [
    "#define path\n",
    "radiomics_path = \"D:\\work\\ingham-medphys-coding-master\\ingham-medphys-coding-master\\data\\HN_Radiomics.csv\"\n",
    "clinical_data_path = \"D:\\work\\ingham-medphys-coding-master\\ingham-medphys-coding-master\\data\\HN_ClinicalData.csv\""
   ]
  },
  {
   "cell_type": "code",
   "execution_count": 3,
   "metadata": {},
   "outputs": [],
   "source": [
    "#read data into dataframe\n",
    "df_clinical_data=pd.read_csv(clinical_data_path)\n",
    "df_radiomics=pd.read_csv(radiomics_path)"
   ]
  },
  {
   "cell_type": "code",
   "execution_count": 4,
   "metadata": {},
   "outputs": [],
   "source": [
    "#attact GTV data\n",
    "df_gtv_radiomics = df_radiomics[df_radiomics[\"Structure\"].str.startswith(\"GTV\")]\n",
    "df_gtv_radiomics = df_gtv_radiomics.groupby(\"id\")[[\"VoxelVolume\", \"SurfaceArea\"]].sum()"
   ]
  },
  {
   "cell_type": "code",
   "execution_count": 5,
   "metadata": {},
   "outputs": [],
   "source": [
    "#merge data into the clininal data\n",
    "df = df_clinical_data.merge(df_gtv_radiomics, on=\"id\")"
   ]
  },
  {
   "cell_type": "code",
   "execution_count": 6,
   "metadata": {},
   "outputs": [
    {
     "data": {
      "text/html": [
       "<div>\n",
       "<style scoped>\n",
       "    .dataframe tbody tr th:only-of-type {\n",
       "        vertical-align: middle;\n",
       "    }\n",
       "\n",
       "    .dataframe tbody tr th {\n",
       "        vertical-align: top;\n",
       "    }\n",
       "\n",
       "    .dataframe thead th {\n",
       "        text-align: right;\n",
       "    }\n",
       "</style>\n",
       "<table border=\"1\" class=\"dataframe\">\n",
       "  <thead>\n",
       "    <tr style=\"text-align: right;\">\n",
       "      <th></th>\n",
       "      <th>id</th>\n",
       "      <th>dataset</th>\n",
       "      <th>index_tumour_location</th>\n",
       "      <th>age_at_diagnosis</th>\n",
       "      <th>biological_sex</th>\n",
       "      <th>performance_status_ecog</th>\n",
       "      <th>overall_hpv_p16_status</th>\n",
       "      <th>clin_t</th>\n",
       "      <th>clin_n</th>\n",
       "      <th>clin_m</th>\n",
       "      <th>...</th>\n",
       "      <th>event_recurrence_metastatic_free_survival</th>\n",
       "      <th>recurrence_metastatic_free_survival_in_days</th>\n",
       "      <th>event_local_recurrence</th>\n",
       "      <th>local_recurrence_in_days</th>\n",
       "      <th>event_locoregional_recurrence</th>\n",
       "      <th>locoregional_recurrence_in_days</th>\n",
       "      <th>event_distant_metastases</th>\n",
       "      <th>distant_metastases_in_days</th>\n",
       "      <th>VoxelVolume</th>\n",
       "      <th>SurfaceArea</th>\n",
       "    </tr>\n",
       "  </thead>\n",
       "  <tbody>\n",
       "    <tr>\n",
       "      <th>0</th>\n",
       "      <td>HN1004</td>\n",
       "      <td>train</td>\n",
       "      <td>oropharynx</td>\n",
       "      <td>56</td>\n",
       "      <td>male</td>\n",
       "      <td>1.0</td>\n",
       "      <td>negative</td>\n",
       "      <td>4</td>\n",
       "      <td>2</td>\n",
       "      <td>0</td>\n",
       "      <td>...</td>\n",
       "      <td>0</td>\n",
       "      <td>3193</td>\n",
       "      <td>0</td>\n",
       "      <td>3193</td>\n",
       "      <td>0</td>\n",
       "      <td>3193</td>\n",
       "      <td>0</td>\n",
       "      <td>3193</td>\n",
       "      <td>122242.927551</td>\n",
       "      <td>20543.958253</td>\n",
       "    </tr>\n",
       "    <tr>\n",
       "      <th>1</th>\n",
       "      <td>HN1006</td>\n",
       "      <td>test</td>\n",
       "      <td>oropharynx</td>\n",
       "      <td>63</td>\n",
       "      <td>female</td>\n",
       "      <td>1.0</td>\n",
       "      <td>negative</td>\n",
       "      <td>1</td>\n",
       "      <td>2</td>\n",
       "      <td>0</td>\n",
       "      <td>...</td>\n",
       "      <td>0</td>\n",
       "      <td>1940</td>\n",
       "      <td>0</td>\n",
       "      <td>1940</td>\n",
       "      <td>0</td>\n",
       "      <td>1940</td>\n",
       "      <td>0</td>\n",
       "      <td>1940</td>\n",
       "      <td>17014.503479</td>\n",
       "      <td>7740.937225</td>\n",
       "    </tr>\n",
       "    <tr>\n",
       "      <th>2</th>\n",
       "      <td>HN1022</td>\n",
       "      <td>train</td>\n",
       "      <td>oropharynx</td>\n",
       "      <td>56</td>\n",
       "      <td>male</td>\n",
       "      <td>0.0</td>\n",
       "      <td>positive</td>\n",
       "      <td>1</td>\n",
       "      <td>0</td>\n",
       "      <td>0</td>\n",
       "      <td>...</td>\n",
       "      <td>0</td>\n",
       "      <td>1269</td>\n",
       "      <td>0</td>\n",
       "      <td>1269</td>\n",
       "      <td>0</td>\n",
       "      <td>1269</td>\n",
       "      <td>0</td>\n",
       "      <td>1269</td>\n",
       "      <td>35350.799561</td>\n",
       "      <td>10405.482300</td>\n",
       "    </tr>\n",
       "    <tr>\n",
       "      <th>3</th>\n",
       "      <td>HN1026</td>\n",
       "      <td>train</td>\n",
       "      <td>larynx</td>\n",
       "      <td>67</td>\n",
       "      <td>male</td>\n",
       "      <td>0.0</td>\n",
       "      <td>NaN</td>\n",
       "      <td>4</td>\n",
       "      <td>0</td>\n",
       "      <td>0</td>\n",
       "      <td>...</td>\n",
       "      <td>1</td>\n",
       "      <td>600</td>\n",
       "      <td>1</td>\n",
       "      <td>600</td>\n",
       "      <td>1</td>\n",
       "      <td>600</td>\n",
       "      <td>0</td>\n",
       "      <td>1315</td>\n",
       "      <td>3713.607788</td>\n",
       "      <td>1623.465837</td>\n",
       "    </tr>\n",
       "    <tr>\n",
       "      <th>4</th>\n",
       "      <td>HN1029</td>\n",
       "      <td>train</td>\n",
       "      <td>oropharynx</td>\n",
       "      <td>54</td>\n",
       "      <td>female</td>\n",
       "      <td>0.0</td>\n",
       "      <td>positive</td>\n",
       "      <td>1</td>\n",
       "      <td>2</td>\n",
       "      <td>0</td>\n",
       "      <td>...</td>\n",
       "      <td>0</td>\n",
       "      <td>2101</td>\n",
       "      <td>0</td>\n",
       "      <td>2101</td>\n",
       "      <td>0</td>\n",
       "      <td>2101</td>\n",
       "      <td>0</td>\n",
       "      <td>2101</td>\n",
       "      <td>14416.694641</td>\n",
       "      <td>5353.958555</td>\n",
       "    </tr>\n",
       "  </tbody>\n",
       "</table>\n",
       "<p>5 rows × 30 columns</p>\n",
       "</div>"
      ],
      "text/plain": [
       "       id dataset index_tumour_location  age_at_diagnosis biological_sex  \\\n",
       "0  HN1004   train            oropharynx                56           male   \n",
       "1  HN1006    test            oropharynx                63         female   \n",
       "2  HN1022   train            oropharynx                56           male   \n",
       "3  HN1026   train                larynx                67           male   \n",
       "4  HN1029   train            oropharynx                54         female   \n",
       "\n",
       "   performance_status_ecog overall_hpv_p16_status  clin_t  clin_n  clin_m  \\\n",
       "0                      1.0               negative       4       2       0   \n",
       "1                      1.0               negative       1       2       0   \n",
       "2                      0.0               positive       1       0       0   \n",
       "3                      0.0                    NaN       4       0       0   \n",
       "4                      0.0               positive       1       2       0   \n",
       "\n",
       "   ... event_recurrence_metastatic_free_survival  \\\n",
       "0  ...                                         0   \n",
       "1  ...                                         0   \n",
       "2  ...                                         0   \n",
       "3  ...                                         1   \n",
       "4  ...                                         0   \n",
       "\n",
       "   recurrence_metastatic_free_survival_in_days event_local_recurrence  \\\n",
       "0                                         3193                      0   \n",
       "1                                         1940                      0   \n",
       "2                                         1269                      0   \n",
       "3                                          600                      1   \n",
       "4                                         2101                      0   \n",
       "\n",
       "  local_recurrence_in_days  event_locoregional_recurrence  \\\n",
       "0                     3193                              0   \n",
       "1                     1940                              0   \n",
       "2                     1269                              0   \n",
       "3                      600                              1   \n",
       "4                     2101                              0   \n",
       "\n",
       "   locoregional_recurrence_in_days  event_distant_metastases  \\\n",
       "0                             3193                         0   \n",
       "1                             1940                         0   \n",
       "2                             1269                         0   \n",
       "3                              600                         0   \n",
       "4                             2101                         0   \n",
       "\n",
       "   distant_metastases_in_days    VoxelVolume   SurfaceArea  \n",
       "0                        3193  122242.927551  20543.958253  \n",
       "1                        1940   17014.503479   7740.937225  \n",
       "2                        1269   35350.799561  10405.482300  \n",
       "3                        1315    3713.607788   1623.465837  \n",
       "4                        2101   14416.694641   5353.958555  \n",
       "\n",
       "[5 rows x 30 columns]"
      ]
     },
     "execution_count": 6,
     "metadata": {},
     "output_type": "execute_result"
    }
   ],
   "source": [
    "df.head()"
   ]
  },
  {
   "cell_type": "code",
   "execution_count": 7,
   "metadata": {},
   "outputs": [
    {
     "name": "stdout",
     "output_type": "stream",
     "text": [
      "<class 'pandas.core.frame.DataFrame'>\n",
      "Int64Index: 102 entries, 0 to 136\n",
      "Data columns (total 30 columns):\n",
      "id                                                102 non-null object\n",
      "dataset                                           102 non-null object\n",
      "index_tumour_location                             102 non-null object\n",
      "age_at_diagnosis                                  102 non-null int64\n",
      "biological_sex                                    102 non-null object\n",
      "performance_status_ecog                           96 non-null float64\n",
      "overall_hpv_p16_status                            59 non-null object\n",
      "clin_t                                            102 non-null int64\n",
      "clin_n                                            102 non-null int64\n",
      "clin_m                                            102 non-null int64\n",
      "ajcc_stage                                        102 non-null object\n",
      "pretreat_hb_in_mmolperlitre                       62 non-null float64\n",
      "cancer_surgery_performed                          102 non-null object\n",
      "chemotherapy_given                                102 non-null object\n",
      "radiotherapy_total_treat_time                     102 non-null int64\n",
      "radiotherapy_refgydose_perfraction_highriskgtv    102 non-null float64\n",
      "radiotherapy_refgydose_total_highriskgtv          102 non-null float64\n",
      "radiotherapy_number_fractions_highriskgtv         102 non-null int64\n",
      "event_overall_survival                            102 non-null int64\n",
      "overall_survival_in_days                          102 non-null int64\n",
      "event_recurrence_metastatic_free_survival         102 non-null int64\n",
      "recurrence_metastatic_free_survival_in_days       102 non-null int64\n",
      "event_local_recurrence                            102 non-null int64\n",
      "local_recurrence_in_days                          102 non-null int64\n",
      "event_locoregional_recurrence                     102 non-null int64\n",
      "locoregional_recurrence_in_days                   102 non-null int64\n",
      "event_distant_metastases                          102 non-null int64\n",
      "distant_metastases_in_days                        102 non-null int64\n",
      "VoxelVolume                                       102 non-null float64\n",
      "SurfaceArea                                       102 non-null float64\n",
      "dtypes: float64(6), int64(16), object(8)\n",
      "memory usage: 24.7+ KB\n",
      "<class 'pandas.core.frame.DataFrame'>\n",
      "Int64Index: 35 entries, 1 to 133\n",
      "Data columns (total 30 columns):\n",
      "id                                                35 non-null object\n",
      "dataset                                           35 non-null object\n",
      "index_tumour_location                             35 non-null object\n",
      "age_at_diagnosis                                  35 non-null int64\n",
      "biological_sex                                    35 non-null object\n",
      "performance_status_ecog                           31 non-null float64\n",
      "overall_hpv_p16_status                            22 non-null object\n",
      "clin_t                                            35 non-null int64\n",
      "clin_n                                            35 non-null int64\n",
      "clin_m                                            35 non-null int64\n",
      "ajcc_stage                                        35 non-null object\n",
      "pretreat_hb_in_mmolperlitre                       21 non-null float64\n",
      "cancer_surgery_performed                          35 non-null object\n",
      "chemotherapy_given                                35 non-null object\n",
      "radiotherapy_total_treat_time                     35 non-null int64\n",
      "radiotherapy_refgydose_perfraction_highriskgtv    35 non-null float64\n",
      "radiotherapy_refgydose_total_highriskgtv          35 non-null float64\n",
      "radiotherapy_number_fractions_highriskgtv         35 non-null int64\n",
      "event_overall_survival                            35 non-null int64\n",
      "overall_survival_in_days                          35 non-null int64\n",
      "event_recurrence_metastatic_free_survival         35 non-null int64\n",
      "recurrence_metastatic_free_survival_in_days       35 non-null int64\n",
      "event_local_recurrence                            35 non-null int64\n",
      "local_recurrence_in_days                          35 non-null int64\n",
      "event_locoregional_recurrence                     35 non-null int64\n",
      "locoregional_recurrence_in_days                   35 non-null int64\n",
      "event_distant_metastases                          35 non-null int64\n",
      "distant_metastases_in_days                        35 non-null int64\n",
      "VoxelVolume                                       35 non-null float64\n",
      "SurfaceArea                                       35 non-null float64\n",
      "dtypes: float64(6), int64(16), object(8)\n",
      "memory usage: 8.5+ KB\n"
     ]
    }
   ],
   "source": [
    "Train_Data=df[df[\"dataset\"]==\"train\"]\n",
    "Test_Data=df[df[\"dataset\"]==\"test\"]\n",
    "Train_Data.info()\n",
    "Test_Data.info()"
   ]
  },
  {
   "cell_type": "code",
   "execution_count": 8,
   "metadata": {},
   "outputs": [
    {
     "data": {
      "text/plain": [
       "id                                                 0\n",
       "dataset                                            0\n",
       "index_tumour_location                              0\n",
       "age_at_diagnosis                                   0\n",
       "biological_sex                                     0\n",
       "performance_status_ecog                            4\n",
       "overall_hpv_p16_status                            13\n",
       "clin_t                                             0\n",
       "clin_n                                             0\n",
       "clin_m                                             0\n",
       "ajcc_stage                                         0\n",
       "pretreat_hb_in_mmolperlitre                       14\n",
       "cancer_surgery_performed                           0\n",
       "chemotherapy_given                                 0\n",
       "radiotherapy_total_treat_time                      0\n",
       "radiotherapy_refgydose_perfraction_highriskgtv     0\n",
       "radiotherapy_refgydose_total_highriskgtv           0\n",
       "radiotherapy_number_fractions_highriskgtv          0\n",
       "event_overall_survival                             0\n",
       "overall_survival_in_days                           0\n",
       "event_recurrence_metastatic_free_survival          0\n",
       "recurrence_metastatic_free_survival_in_days        0\n",
       "event_local_recurrence                             0\n",
       "local_recurrence_in_days                           0\n",
       "event_locoregional_recurrence                      0\n",
       "locoregional_recurrence_in_days                    0\n",
       "event_distant_metastases                           0\n",
       "distant_metastases_in_days                         0\n",
       "VoxelVolume                                        0\n",
       "SurfaceArea                                        0\n",
       "dtype: int64"
      ]
     },
     "execution_count": 8,
     "metadata": {},
     "output_type": "execute_result"
    }
   ],
   "source": [
    "Train_Data.isnull().sum()\n",
    "Test_Data.isnull().sum()"
   ]
  },
  {
   "cell_type": "code",
   "execution_count": 9,
   "metadata": {},
   "outputs": [],
   "source": [
    "#data analysis\n",
    "#null training data: performance_status_ecog 6, overall_hpv_p16_status 43, pretreat_hb_in_mmolperlitre 60\n",
    "# since the null number of the overall_hpv_p16_status and pretreat_hb_in_mmolperlitre is too large for the model training, drop them at first\n",
    "# only 6 performance_status_ecog is\n",
    "\n",
    "df_Train_Data = Train_Data.drop(['overall_hpv_p16_status', 'pretreat_hb_in_mmolperlitre'],axis=1)\n",
    "df_Test_Data = Test_Data.drop(['overall_hpv_p16_status', 'pretreat_hb_in_mmolperlitre'],axis=1)\n",
    "df_Train_Data_no_status_ecog = df_Train_Data.drop(['performance_status_ecog'],axis=1)\n",
    "df_Test_Data_no_status_ecog = df_Test_Data.drop(['performance_status_ecog'],axis=1)"
   ]
  },
  {
   "cell_type": "code",
   "execution_count": 10,
   "metadata": {},
   "outputs": [],
   "source": [
    "#fill null of the performance_status_ecog\n",
    "#analysis correlation of performance status ecog with other data\n",
    "df_train=df_Train_Data.dropna()"
   ]
  },
  {
   "cell_type": "code",
   "execution_count": 11,
   "metadata": {},
   "outputs": [],
   "source": [
    "corr = df_train[[\"performance_status_ecog\", \"age_at_diagnosis\", \"clin_t\", \"clin_n\", \"clin_m\", \"radiotherapy_refgydose_perfraction_highriskgtv\", \"radiotherapy_refgydose_total_highriskgtv\", \"overall_survival_in_days\"]].corr()"
   ]
  },
  {
   "cell_type": "code",
   "execution_count": 12,
   "metadata": {},
   "outputs": [
    {
     "data": {
      "text/plain": [
       "<Figure size 3000x800 with 2 Axes>"
      ]
     },
     "metadata": {},
     "output_type": "display_data"
    }
   ],
   "source": [
    "import matplotlib.pyplot as plt\n",
    "import seaborn as sns \n",
    "plt.figure(figsize=(30,8))\n",
    "sns.heatmap(corr,cmap='coolwarm',annot = True)\n",
    "plt.show()"
   ]
  },
  {
   "cell_type": "code",
   "execution_count": 13,
   "metadata": {},
   "outputs": [
    {
     "data": {
      "text/plain": [
       "0.0    50\n",
       "1.0    43\n",
       "2.0     2\n",
       "3.0     1\n",
       "Name: performance_status_ecog, dtype: int64"
      ]
     },
     "execution_count": 13,
     "metadata": {},
     "output_type": "execute_result"
    }
   ],
   "source": [
    "df_Train_Data.performance_status_ecog.value_counts()"
   ]
  },
  {
   "cell_type": "code",
   "execution_count": 59,
   "metadata": {},
   "outputs": [],
   "source": [
    "df_Train_Data['performance_status_ecog'].fillna(df_Train_Data['performance_status_ecog'].value_counts().index[0], inplace=True)\n",
    "df_Test_Data['performance_status_ecog'].fillna(df_Test_Data['performance_status_ecog'].value_counts().index[0], inplace=True)"
   ]
  },
  {
   "cell_type": "code",
   "execution_count": 60,
   "metadata": {},
   "outputs": [],
   "source": [
    "#transform category data into numberic data\n",
    "#index_tumour_location, \n",
    "from sklearn.preprocessing import LabelEncoder\n",
    "# creating instance of labelencoder\n",
    "labelencoder = LabelEncoder()\n",
    "cols = ('index_tumour_location', 'biological_sex', 'ajcc_stage', 'cancer_surgery_performed', 'chemotherapy_given')\n",
    "# process columns, apply LabelEncoder to categorical features into numeric data\n",
    "for c in cols:\n",
    "    df_Train_Data[c] = labelencoder.fit_transform(df_Train_Data[c])\n",
    "    df_Test_Data[c] = labelencoder.fit_transform(df_Test_Data[c])"
   ]
  },
  {
   "cell_type": "code",
   "execution_count": 61,
   "metadata": {},
   "outputs": [
    {
     "name": "stdout",
     "output_type": "stream",
     "text": [
      "<class 'pandas.core.frame.DataFrame'>\n",
      "Int64Index: 102 entries, 0 to 136\n",
      "Data columns (total 28 columns):\n",
      "id                                                102 non-null object\n",
      "dataset                                           102 non-null object\n",
      "index_tumour_location                             102 non-null int64\n",
      "age_at_diagnosis                                  102 non-null int64\n",
      "biological_sex                                    102 non-null int64\n",
      "performance_status_ecog                           102 non-null float64\n",
      "clin_t                                            102 non-null int64\n",
      "clin_n                                            102 non-null int64\n",
      "clin_m                                            102 non-null int64\n",
      "ajcc_stage                                        102 non-null int64\n",
      "cancer_surgery_performed                          102 non-null int64\n",
      "chemotherapy_given                                102 non-null int64\n",
      "radiotherapy_total_treat_time                     102 non-null int64\n",
      "radiotherapy_refgydose_perfraction_highriskgtv    102 non-null float64\n",
      "radiotherapy_refgydose_total_highriskgtv          102 non-null float64\n",
      "radiotherapy_number_fractions_highriskgtv         102 non-null int64\n",
      "event_overall_survival                            102 non-null int64\n",
      "overall_survival_in_days                          102 non-null int64\n",
      "event_recurrence_metastatic_free_survival         102 non-null int64\n",
      "recurrence_metastatic_free_survival_in_days       102 non-null int64\n",
      "event_local_recurrence                            102 non-null int64\n",
      "local_recurrence_in_days                          102 non-null int64\n",
      "event_locoregional_recurrence                     102 non-null int64\n",
      "locoregional_recurrence_in_days                   102 non-null int64\n",
      "event_distant_metastases                          102 non-null int64\n",
      "distant_metastases_in_days                        102 non-null int64\n",
      "VoxelVolume                                       102 non-null float64\n",
      "SurfaceArea                                       102 non-null float64\n",
      "dtypes: float64(5), int64(21), object(2)\n",
      "memory usage: 23.1+ KB\n",
      "<class 'pandas.core.frame.DataFrame'>\n",
      "Int64Index: 35 entries, 1 to 133\n",
      "Data columns (total 28 columns):\n",
      "id                                                35 non-null object\n",
      "dataset                                           35 non-null object\n",
      "index_tumour_location                             35 non-null int64\n",
      "age_at_diagnosis                                  35 non-null int64\n",
      "biological_sex                                    35 non-null int64\n",
      "performance_status_ecog                           35 non-null float64\n",
      "clin_t                                            35 non-null int64\n",
      "clin_n                                            35 non-null int64\n",
      "clin_m                                            35 non-null int64\n",
      "ajcc_stage                                        35 non-null int64\n",
      "cancer_surgery_performed                          35 non-null int64\n",
      "chemotherapy_given                                35 non-null int64\n",
      "radiotherapy_total_treat_time                     35 non-null int64\n",
      "radiotherapy_refgydose_perfraction_highriskgtv    35 non-null float64\n",
      "radiotherapy_refgydose_total_highriskgtv          35 non-null float64\n",
      "radiotherapy_number_fractions_highriskgtv         35 non-null int64\n",
      "event_overall_survival                            35 non-null int64\n",
      "overall_survival_in_days                          35 non-null int64\n",
      "event_recurrence_metastatic_free_survival         35 non-null int64\n",
      "recurrence_metastatic_free_survival_in_days       35 non-null int64\n",
      "event_local_recurrence                            35 non-null int64\n",
      "local_recurrence_in_days                          35 non-null int64\n",
      "event_locoregional_recurrence                     35 non-null int64\n",
      "locoregional_recurrence_in_days                   35 non-null int64\n",
      "event_distant_metastases                          35 non-null int64\n",
      "distant_metastases_in_days                        35 non-null int64\n",
      "VoxelVolume                                       35 non-null float64\n",
      "SurfaceArea                                       35 non-null float64\n",
      "dtypes: float64(5), int64(21), object(2)\n",
      "memory usage: 7.9+ KB\n"
     ]
    }
   ],
   "source": [
    "df_Train_Data.info()\n",
    "df_Test_Data.info()"
   ]
  },
  {
   "cell_type": "code",
   "execution_count": 62,
   "metadata": {},
   "outputs": [],
   "source": [
    "x_train = df_Train_Data.drop(['id', 'dataset', 'overall_survival_in_days', 'recurrence_metastatic_free_survival_in_days', 'local_recurrence_in_days'], axis=1)\n",
    "Y_train = df_Train_Data[\"overall_survival_in_days\"]\n",
    "x = x_train.values\n",
    "y = Y_train.values"
   ]
  },
  {
   "cell_type": "code",
   "execution_count": 63,
   "metadata": {},
   "outputs": [
    {
     "name": "stderr",
     "output_type": "stream",
     "text": [
      "d:\\app\\python\\lib\\site-packages\\sklearn\\utils\\validation.py:595: DataConversionWarning: Data with input dtype int64 was converted to float64 by StandardScaler.\n",
      "  warnings.warn(msg, DataConversionWarning)\n",
      "d:\\app\\python\\lib\\site-packages\\sklearn\\utils\\validation.py:595: DataConversionWarning: Data with input dtype int64 was converted to float64 by StandardScaler.\n",
      "  warnings.warn(msg, DataConversionWarning)\n"
     ]
    }
   ],
   "source": [
    "from sklearn.preprocessing import StandardScaler\n",
    "sc_X = StandardScaler()\n",
    "sc_y = StandardScaler()\n",
    "x_scaled = sc_X.fit_transform(x)\n",
    "y_scaled = sc_y.fit_transform(y.reshape(-1,1))\n",
    "X_train,X_test, y_train, y_test = train_test_split(x_scaled, y_scaled, test_size=0.33, random_state=42)"
   ]
  },
  {
   "cell_type": "code",
   "execution_count": 64,
   "metadata": {},
   "outputs": [],
   "source": [
    "from sklearn.linear_model import ElasticNet, Lasso,  BayesianRidge, LassoLarsIC\n",
    "from sklearn.ensemble import RandomForestRegressor,  GradientBoostingRegressor"
   ]
  },
  {
   "cell_type": "code",
   "execution_count": 65,
   "metadata": {},
   "outputs": [],
   "source": [
    "lasso = make_pipeline(RobustScaler(), Lasso(alpha =0.0005, random_state=1))\n",
    "ENet = make_pipeline(RobustScaler(), ElasticNet(alpha=0.0005, l1_ratio=.9, random_state=3))\n",
    "Random=RandomForestRegressor(n_estimators=400)\n",
    "GBoost = GradientBoostingRegressor(n_estimators=3000, learning_rate=0.05,\n",
    "                                   max_depth=4, max_features='sqrt',\n",
    "                                   min_samples_leaf=15, min_samples_split=10, \n",
    "                                   loss='huber', random_state =5)\n",
    "model_xgb = xgb.XGBRegressor(colsample_bytree=0.4603, gamma=0.0468, \n",
    "                             learning_rate=0.05, max_depth=3, \n",
    "                             min_child_weight=1.7817, n_estimators=2200,\n",
    "                             reg_alpha=0.4640, reg_lambda=0.8571,\n",
    "                             subsample=0.5213, silent=1,\n",
    "                             random_state =7, nthread = -1)"
   ]
  },
  {
   "cell_type": "code",
   "execution_count": 69,
   "metadata": {},
   "outputs": [
    {
     "name": "stdout",
     "output_type": "stream",
     "text": [
      "Train set accuracy score: 0.12114774592854921\n",
      "Test set accuracy score: 0.29266723074498735\n"
     ]
    }
   ],
   "source": [
    "from sklearn.model_selection import train_test_split\n",
    "from sklearn.metrics import confusion_matrix, accuracy_score, mean_absolute_error\n",
    "from statsmodels.tools import add_constant\n",
    "import warnings\n",
    "warnings.filterwarnings('ignore')\n",
    "RandomReg=Random.fit(X_train, y_train)\n",
    "train_pred = RandomReg.predict(X_train)\n",
    "test_pred = RandomReg.predict(X_test)\n",
    "test_pred = test_pred.reshape(-1,1)\n",
    "train_pred = train_pred.reshape(-1,1)\n",
    "print('Train set accuracy score:', mean_absolute_error(y_train, train_pred))\n",
    "print('Test set accuracy score:', mean_absolute_error(y_test, test_pred))"
   ]
  },
  {
   "cell_type": "code",
   "execution_count": 70,
   "metadata": {},
   "outputs": [
    {
     "name": "stdout",
     "output_type": "stream",
     "text": [
      "Train set accuracy score: 0.1911201954015121\n",
      "Test set accuracy score: 0.4368919667496743\n"
     ]
    }
   ],
   "source": [
    "lassoReg=lasso.fit(X_train, y_train)\n",
    "train_pred = lassoReg.predict(X_train)\n",
    "test_pred = lassoReg.predict(X_test)\n",
    "test_pred = test_pred.reshape(-1,1)\n",
    "train_pred = train_pred.reshape(-1,1)\n",
    "print('Train set accuracy score:', mean_absolute_error(y_train, train_pred))\n",
    "print('Test set accuracy score:', mean_absolute_error(y_test, test_pred))"
   ]
  },
  {
   "cell_type": "code",
   "execution_count": 71,
   "metadata": {},
   "outputs": [
    {
     "name": "stdout",
     "output_type": "stream",
     "text": [
      "Train set accuracy score: 0.19113495064896266\n",
      "Test set accuracy score: 0.4382517637421543\n"
     ]
    }
   ],
   "source": [
    "ENetReg=ENet.fit(X_train, y_train)\n",
    "train_pred = ENetReg.predict(X_train)\n",
    "test_pred = ENetReg.predict(X_test)\n",
    "test_pred = test_pred.reshape(-1,1)\n",
    "train_pred = train_pred.reshape(-1,1)\n",
    "print('Train set accuracy score:', mean_absolute_error(y_train, train_pred))\n",
    "print('Test set accuracy score:', mean_absolute_error(y_test, test_pred))"
   ]
  },
  {
   "cell_type": "code",
   "execution_count": 72,
   "metadata": {},
   "outputs": [
    {
     "name": "stdout",
     "output_type": "stream",
     "text": [
      "Train set accuracy score: 0.04833636448315935\n",
      "Test set accuracy score: 0.3285062548268302\n"
     ]
    }
   ],
   "source": [
    "GBoostReg=GBoost.fit(X_train, y_train)\n",
    "train_pred = GBoostReg.predict(X_train)\n",
    "test_pred = GBoostReg.predict(X_test)\n",
    "test_pred = test_pred.reshape(-1,1)\n",
    "train_pred = train_pred.reshape(-1,1)\n",
    "print('Train set accuracy score:', mean_absolute_error(y_train, train_pred))\n",
    "print('Test set accuracy score:', mean_absolute_error(y_test, test_pred))"
   ]
  },
  {
   "cell_type": "code",
   "execution_count": 73,
   "metadata": {},
   "outputs": [
    {
     "name": "stdout",
     "output_type": "stream",
     "text": [
      "Train set accuracy score: 0.10271549450129475\n",
      "Test set accuracy score: 0.326714260256958\n"
     ]
    }
   ],
   "source": [
    "model_xgbReg=model_xgb.fit(X_train, y_train)\n",
    "train_pred = model_xgbReg.predict(X_train)\n",
    "test_pred = model_xgbReg.predict(X_test)\n",
    "test_pred = test_pred.reshape(-1,1)\n",
    "train_pred = train_pred.reshape(-1,1)\n",
    "print('Train set accuracy score:', mean_absolute_error(y_train, train_pred))\n",
    "print('Test set accuracy score:', mean_absolute_error(y_test, test_pred))"
   ]
  },
  {
   "cell_type": "code",
   "execution_count": 76,
   "metadata": {},
   "outputs": [],
   "source": [
    "class AveragingModels(BaseEstimator, RegressorMixin, TransformerMixin):\n",
    "    def __init__(self, models):\n",
    "        self.models = models\n",
    "        \n",
    "    # we define clones of the original models to fit the data in\n",
    "    def fit(self, X, y):\n",
    "        self.models_ = [clone(x) for x in self.models]\n",
    "        \n",
    "        # Train cloned base models\n",
    "        for model in self.models_:\n",
    "            model.fit(X, y)\n",
    "\n",
    "        return self\n",
    "    \n",
    "    #Now we do the predictions for cloned models and average them\n",
    "    def predict(self, X):\n",
    "        predictions = np.column_stack([\n",
    "            model.predict(X) for model in self.models_\n",
    "        ])\n",
    "        return np.mean(predictions, axis=1)   "
   ]
  },
  {
   "cell_type": "code",
   "execution_count": 75,
   "metadata": {},
   "outputs": [],
   "source": [
    "test_x = df_Test_Data.drop(['id', 'dataset', 'overall_survival_in_days', 'recurrence_metastatic_free_survival_in_days', 'local_recurrence_in_days'], axis=1).values\n",
    "text_y = df_Test_Data[\"overall_survival_in_days\"]\n",
    "test=sc_X.fit_transform(test_x)\n"
   ]
  },
  {
   "cell_type": "code",
   "execution_count": 77,
   "metadata": {},
   "outputs": [],
   "source": [
    "y_te_Random = RandomReg.predict(test).reshape(-1,1)\n",
    "test_prediction =sc_y.inverse_transform(y_te_Random)"
   ]
  },
  {
   "cell_type": "code",
   "execution_count": 88,
   "metadata": {},
   "outputs": [
    {
     "data": {
      "text/plain": [
       "578.5914285714281"
      ]
     },
     "execution_count": 88,
     "metadata": {},
     "output_type": "execute_result"
    }
   ],
   "source": [
    "np.mean(test_prediction[0,:]-text_y)"
   ]
  },
  {
   "cell_type": "code",
   "execution_count": 90,
   "metadata": {},
   "outputs": [
    {
     "data": {
      "text/plain": [
       "428.85795987566644"
      ]
     },
     "execution_count": 90,
     "metadata": {},
     "output_type": "execute_result"
    }
   ],
   "source": [
    "y_te_lasso = lassoReg.predict(test).reshape(-1,1)\n",
    "test_prediction =sc_y.inverse_transform(y_te_lasso)\n",
    "np.mean(test_prediction[0,:]-text_y)"
   ]
  },
  {
   "cell_type": "code",
   "execution_count": 91,
   "metadata": {},
   "outputs": [
    {
     "data": {
      "text/plain": [
       "426.4342771709539"
      ]
     },
     "execution_count": 91,
     "metadata": {},
     "output_type": "execute_result"
    }
   ],
   "source": [
    "y_te_ENet = ENetReg.predict(test).reshape(-1,1)\n",
    "test_prediction =sc_y.inverse_transform(y_te_ENet)\n",
    "np.mean(test_prediction[0,:]-text_y)"
   ]
  },
  {
   "cell_type": "code",
   "execution_count": 92,
   "metadata": {},
   "outputs": [
    {
     "data": {
      "text/plain": [
       "579.6081911064508"
      ]
     },
     "execution_count": 92,
     "metadata": {},
     "output_type": "execute_result"
    }
   ],
   "source": [
    "y_te_GBoost = GBoostReg.predict(test).reshape(-1,1)\n",
    "test_prediction =sc_y.inverse_transform(y_te_GBoost)\n",
    "np.mean(test_prediction[0,:]-text_y)"
   ]
  },
  {
   "cell_type": "code",
   "execution_count": 94,
   "metadata": {},
   "outputs": [
    {
     "data": {
      "text/plain": [
       "231.11801060267857"
      ]
     },
     "execution_count": 94,
     "metadata": {},
     "output_type": "execute_result"
    }
   ],
   "source": [
    "y_te_xgb = model_xgbReg.predict(test).reshape(-1,1)\n",
    "test_prediction =sc_y.inverse_transform(y_te_xgb)\n",
    "np.mean(test_prediction[0,:]-text_y)"
   ]
  },
  {
   "cell_type": "code",
   "execution_count": 58,
   "metadata": {},
   "outputs": [
    {
     "data": {
      "text/plain": [
       "array([             inf,              inf,              inf,\n",
       "                    inf,  4.34097461e+133,              inf,\n",
       "                    inf,              inf, -1.00000000e+000,\n",
       "                    inf,              inf,              inf,\n",
       "                    inf,              inf,              inf,\n",
       "                    inf,              inf,              inf,\n",
       "                    inf,              inf,              inf,\n",
       "                    inf,              inf,              inf,\n",
       "                    inf,              inf,  1.65569341e+088,\n",
       "                    inf,              inf,              inf,\n",
       "        6.53454005e+099,              inf,              inf,\n",
       "                    inf,              inf])"
      ]
     },
     "execution_count": 58,
     "metadata": {},
     "output_type": "execute_result"
    }
   ],
   "source": []
  },
  {
   "cell_type": "code",
   "execution_count": null,
   "metadata": {},
   "outputs": [],
   "source": []
  }
 ],
 "metadata": {
  "kernelspec": {
   "display_name": "Python 3",
   "language": "python",
   "name": "python3"
  },
  "language_info": {
   "codemirror_mode": {
    "name": "ipython",
    "version": 3
   },
   "file_extension": ".py",
   "mimetype": "text/x-python",
   "name": "python",
   "nbconvert_exporter": "python",
   "pygments_lexer": "ipython3",
   "version": "3.6.7"
  }
 },
 "nbformat": 4,
 "nbformat_minor": 2
}
