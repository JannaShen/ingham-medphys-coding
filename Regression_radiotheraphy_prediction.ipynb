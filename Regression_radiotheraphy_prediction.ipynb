{
 "cells": [
  {
   "cell_type": "code",
   "execution_count": 1,
   "metadata": {},
   "outputs": [],
   "source": [
    "import pandas as pd\n",
    "import matplotlib.pyplot as plt\n",
    "import seaborn as sns "
   ]
  },
  {
   "cell_type": "code",
   "execution_count": 2,
   "metadata": {},
   "outputs": [],
   "source": [
    "#define path\n",
    "radiomics_path = \"D:\\work\\ingham-medphys-coding-master\\ingham-medphys-coding-master\\data\\HN_Radiomics.csv\"\n",
    "clinical_data_path = \"D:\\work\\ingham-medphys-coding-master\\ingham-medphys-coding-master\\data\\HN_ClinicalData.csv\""
   ]
  },
  {
   "cell_type": "code",
   "execution_count": 3,
   "metadata": {},
   "outputs": [],
   "source": [
    "#read data into dataframe\n",
    "df_clinical_data=pd.read_csv(clinical_data_path)\n",
    "df_radiomics=pd.read_csv(radiomics_path)"
   ]
  },
  {
   "cell_type": "code",
   "execution_count": 4,
   "metadata": {},
   "outputs": [],
   "source": [
    "#attact GTV data\n",
    "df_gtv_radiomics = df_radiomics[df_radiomics[\"Structure\"].str.startswith(\"GTV\")]\n",
    "df_gtv_radiomics = df_gtv_radiomics.groupby(\"id\")[[\"VoxelVolume\", \"SurfaceArea\"]].sum()"
   ]
  },
  {
   "cell_type": "code",
   "execution_count": 5,
   "metadata": {},
   "outputs": [],
   "source": [
    "#merge data into the clininal data\n",
    "df = df_clinical_data.merge(df_gtv_radiomics, on=\"id\")"
   ]
  },
  {
   "cell_type": "code",
   "execution_count": 7,
   "metadata": {},
   "outputs": [],
   "source": [
    "Train_Data=df[df[\"dataset\"]==\"train\"]\n",
    "Test_Data=df[df[\"dataset\"]==\"test\"]\n"
   ]
  },
  {
   "cell_type": "code",
   "execution_count": 8,
   "metadata": {},
   "outputs": [],
   "source": [
    "#null data processing\n",
    "df_Train_Data = Train_Data.drop(['overall_hpv_p16_status', 'pretreat_hb_in_mmolperlitre'],axis=1)\n",
    "df_Test_Data = Test_Data.drop(['overall_hpv_p16_status', 'pretreat_hb_in_mmolperlitre'],axis=1)\n",
    "df_Train_Data['performance_status_ecog'].fillna(df_Train_Data['performance_status_ecog'].value_counts().index[0], inplace=True)\n",
    "df_Test_Data['performance_status_ecog'].fillna(df_Test_Data['performance_status_ecog'].value_counts().index[0], inplace=True)"
   ]
  },
  {
   "cell_type": "code",
   "execution_count": 9,
   "metadata": {},
   "outputs": [],
   "source": [
    "#transform category data into numberic data\n",
    "#index_tumour_location, \n",
    "from sklearn.preprocessing import LabelEncoder\n",
    "# creating instance of labelencoder\n",
    "labelencoder = LabelEncoder()\n",
    "cols = ('index_tumour_location', 'biological_sex', 'ajcc_stage', 'cancer_surgery_performed', 'chemotherapy_given')\n",
    "# process columns, apply LabelEncoder to categorical features into numeric data\n",
    "for c in cols:\n",
    "    df_Train_Data[c] = labelencoder.fit_transform(df_Train_Data[c])\n",
    "    df_Test_Data[c] = labelencoder.fit_transform(df_Test_Data[c])"
   ]
  },
  {
   "cell_type": "code",
   "execution_count": 42,
   "metadata": {},
   "outputs": [],
   "source": [
    "x_train = df_Train_Data.drop(['id', 'dataset', 'overall_survival_in_days'], axis=1)\n",
    "Y_train = df_Train_Data[\"overall_survival_in_days\"]\n",
    "x = x_train.values\n",
    "y = Y_train.values"
   ]
  },
  {
   "cell_type": "code",
   "execution_count": 43,
   "metadata": {},
   "outputs": [],
   "source": [
    "x_test = df_Test_Data.drop(['id', 'dataset', 'overall_survival_in_days'], axis=1)\n",
    "Y_test = df_Test_Data[\"overall_survival_in_days\"]"
   ]
  },
  {
   "cell_type": "code",
   "execution_count": 48,
   "metadata": {},
   "outputs": [
    {
     "name": "stderr",
     "output_type": "stream",
     "text": [
      "d:\\app\\python\\lib\\site-packages\\sklearn\\preprocessing\\data.py:645: DataConversionWarning: Data with input dtype int32, int64, float64 were all converted to float64 by StandardScaler.\n",
      "  return self.partial_fit(X, y)\n",
      "d:\\app\\python\\lib\\site-packages\\sklearn\\base.py:464: DataConversionWarning: Data with input dtype int32, int64, float64 were all converted to float64 by StandardScaler.\n",
      "  return self.fit(X, **fit_params).transform(X)\n",
      "d:\\app\\python\\lib\\site-packages\\sklearn\\utils\\validation.py:595: DataConversionWarning: Data with input dtype int64 was converted to float64 by StandardScaler.\n",
      "  warnings.warn(msg, DataConversionWarning)\n",
      "d:\\app\\python\\lib\\site-packages\\sklearn\\utils\\validation.py:595: DataConversionWarning: Data with input dtype int64 was converted to float64 by StandardScaler.\n",
      "  warnings.warn(msg, DataConversionWarning)\n",
      "d:\\app\\python\\lib\\site-packages\\ipykernel_launcher.py:8: DataConversionWarning: Data with input dtype int32, int64, float64 were all converted to float64 by StandardScaler.\n",
      "  \n"
     ]
    }
   ],
   "source": [
    "from sklearn.preprocessing import StandardScaler\n",
    "sc_X = StandardScaler()\n",
    "sc_y = StandardScaler()\n",
    "X_train = sc_X.fit_transform(x_train)\n",
    "y_train = sc_y.fit_transform(y.reshape(-1,1))\n",
    "scaled_x_train = pd.DataFrame(X_train , index=x_train.index, columns=x_train.columns)\n",
    "scaled_y_train = pd.DataFrame(y_train , index=Y_train.index, columns=[\"overall_survival_in_days\"])\n",
    "X_test = sc_X.transform(x_test)\n",
    "scaled_x_test = pd.DataFrame(X_test , index=x_test.index, columns=x_test.columns)\n",
    "#y_train = sc_y.transform(Y_train.reshape(-1,1))\n",
    "#y_scaled = sc_y.fit_transform(y.reshape(-1,1))\n",
    "#X_train,X_test, y_train, y_test = train_test_split(x_scaled, y, test_size=0.33, random_state=42)"
   ]
  },
  {
   "cell_type": "code",
   "execution_count": 34,
   "metadata": {},
   "outputs": [],
   "source": [
    "from sklearn.linear_model import ElasticNet, Lasso,  BayesianRidge, LassoLarsIC\n",
    "from sklearn.ensemble import RandomForestRegressor,  GradientBoostingRegressor\n",
    "import xgboost as xgb\n",
    "from sklearn.model_selection import KFold\n",
    "from sklearn.metrics import accuracy_score\n",
    "import numpy as np"
   ]
  },
  {
   "cell_type": "code",
   "execution_count": 76,
   "metadata": {},
   "outputs": [],
   "source": [
    "lasso =  Lasso(alpha =0.0005, random_state=1)\n",
    "ENet = ElasticNet(alpha=0.0005, l1_ratio=.9, random_state=3)\n",
    "Random=RandomForestRegressor(n_estimators=400)\n",
    "GBoost = GradientBoostingRegressor(n_estimators=3000, learning_rate=0.05,\n",
    "                                   max_depth=4, max_features='sqrt',\n",
    "                                   min_samples_leaf=15, min_samples_split=10, \n",
    "                                   loss='huber', random_state =5)\n",
    "model_xgb = xgb.XGBRegressor(colsample_bytree=0.4603, gamma=0.0468, \n",
    "                             learning_rate=0.05, max_depth=3, \n",
    "                             min_child_weight=1.7817, n_estimators=2200,\n",
    "                             reg_alpha=0.4640, reg_lambda=0.8571,\n",
    "                             subsample=0.5213, silent=1,\n",
    "                             random_state =7, nthread = -1)"
   ]
  },
  {
   "cell_type": "code",
   "execution_count": 23,
   "metadata": {},
   "outputs": [],
   "source": [
    "def regression_model(model, data, x_train, Y_train):\n",
    "  #Fit the model:\n",
    "  model.fit(x_train,Y_train)\n",
    "  \n",
    "  #Make predictions on training set:\n",
    "  predictions = model.predict(x_train)\n",
    "  \n",
    "\n",
    "  #Perform k-fold cross-validation with 5 folds\n",
    "  kf = KFold(n_splits=5).split(data)\n",
    "  error = []\n",
    "  for train, test in kf:\n",
    "    # Filter training data\n",
    "    train_predictors = (x_train.iloc[train,:])\n",
    "    \n",
    "    # The target we're using to train the algorithm.\n",
    "    train_target = Y_train.iloc[train]\n",
    "    \n",
    "    # Training the algorithm using the predictors and target.\n",
    "    model.fit(train_predictors, train_target)\n",
    "    \n",
    "    #Record error from each cross-validation run\n",
    "    error.append(model.score(x_train.iloc[test,:], Y_train.iloc[test]))\n",
    "    \n",
    "    print(\"Cross-Validation Score : %s\" % \"{0:.3%}\".format(np.mean(error)))\n",
    "    \n",
    "  #Fit the model again so that it can be refered outside the function:\n",
    "  model.fit(x_train,Y_train) "
   ]
  },
  {
   "cell_type": "code",
   "execution_count": 67,
   "metadata": {},
   "outputs": [
    {
     "name": "stdout",
     "output_type": "stream",
     "text": [
      "Cross-Validation Score : 80.249%\n",
      "Cross-Validation Score : 79.059%\n",
      "Cross-Validation Score : 78.400%\n",
      "Cross-Validation Score : 78.468%\n",
      "Cross-Validation Score : 77.161%\n"
     ]
    },
    {
     "data": {
      "text/plain": [
       "26.514285714285716"
      ]
     },
     "execution_count": 67,
     "metadata": {},
     "output_type": "execute_result"
    }
   ],
   "source": [
    "regression_model(GBoost,df_Train_Data,x_train,Y_train)\n",
    "GBoost_predictions = GBoost.predict(x_test).astype(int)\n",
    "#test_prediction =sc_y.inverse_transform(predictions)\n",
    "np.mean(GBoost_predictions-Y_test)"
   ]
  },
  {
   "cell_type": "code",
   "execution_count": 70,
   "metadata": {},
   "outputs": [
    {
     "name": "stdout",
     "output_type": "stream",
     "text": [
      "Cross-Validation Score : 80.978%\n",
      "Cross-Validation Score : 80.775%\n",
      "Cross-Validation Score : 82.349%\n",
      "Cross-Validation Score : 82.776%\n",
      "Cross-Validation Score : 82.085%\n"
     ]
    },
    {
     "data": {
      "text/plain": [
       "-75.05714285714286"
      ]
     },
     "execution_count": 70,
     "metadata": {},
     "output_type": "execute_result"
    }
   ],
   "source": [
    "regression_model(Random,df_Train_Data,x_train,Y_train)\n",
    "Random_predictions = Random.predict(x_test).astype(int)\n",
    "#test_prediction =sc_y.inverse_transform(predictions)\n",
    "np.mean(Random_predictions-Y_test)"
   ]
  },
  {
   "cell_type": "code",
   "execution_count": 71,
   "metadata": {},
   "outputs": [
    {
     "name": "stdout",
     "output_type": "stream",
     "text": [
      "Cross-Validation Score : 82.140%\n",
      "Cross-Validation Score : 82.114%\n",
      "Cross-Validation Score : 74.944%\n",
      "Cross-Validation Score : 77.253%\n",
      "Cross-Validation Score : 74.220%\n"
     ]
    },
    {
     "name": "stderr",
     "output_type": "stream",
     "text": [
      "d:\\app\\python\\lib\\site-packages\\sklearn\\linear_model\\coordinate_descent.py:492: ConvergenceWarning: Objective did not converge. You might want to increase the number of iterations. Fitting data with very small alpha may cause precision problems.\n",
      "  ConvergenceWarning)\n",
      "d:\\app\\python\\lib\\site-packages\\sklearn\\linear_model\\coordinate_descent.py:492: ConvergenceWarning: Objective did not converge. You might want to increase the number of iterations. Fitting data with very small alpha may cause precision problems.\n",
      "  ConvergenceWarning)\n",
      "d:\\app\\python\\lib\\site-packages\\sklearn\\linear_model\\coordinate_descent.py:492: ConvergenceWarning: Objective did not converge. You might want to increase the number of iterations. Fitting data with very small alpha may cause precision problems.\n",
      "  ConvergenceWarning)\n",
      "d:\\app\\python\\lib\\site-packages\\sklearn\\linear_model\\coordinate_descent.py:492: ConvergenceWarning: Objective did not converge. You might want to increase the number of iterations. Fitting data with very small alpha may cause precision problems.\n",
      "  ConvergenceWarning)\n",
      "d:\\app\\python\\lib\\site-packages\\sklearn\\linear_model\\coordinate_descent.py:492: ConvergenceWarning: Objective did not converge. You might want to increase the number of iterations. Fitting data with very small alpha may cause precision problems.\n",
      "  ConvergenceWarning)\n",
      "d:\\app\\python\\lib\\site-packages\\sklearn\\linear_model\\coordinate_descent.py:492: ConvergenceWarning: Objective did not converge. You might want to increase the number of iterations. Fitting data with very small alpha may cause precision problems.\n",
      "  ConvergenceWarning)\n",
      "d:\\app\\python\\lib\\site-packages\\sklearn\\linear_model\\coordinate_descent.py:492: ConvergenceWarning: Objective did not converge. You might want to increase the number of iterations. Fitting data with very small alpha may cause precision problems.\n",
      "  ConvergenceWarning)\n"
     ]
    },
    {
     "data": {
      "text/plain": [
       "-184.8"
      ]
     },
     "execution_count": 71,
     "metadata": {},
     "output_type": "execute_result"
    }
   ],
   "source": [
    "regression_model(ENet,df_Train_Data,x_train,Y_train)\n",
    "ENet_predictions = ENet.predict(x_test).astype(int)\n",
    "#test_prediction =sc_y.inverse_transform(predictions)\n",
    "np.mean(ENet_predictions-Y_test)"
   ]
  },
  {
   "cell_type": "code",
   "execution_count": 59,
   "metadata": {},
   "outputs": [
    {
     "name": "stderr",
     "output_type": "stream",
     "text": [
      "d:\\app\\python\\lib\\site-packages\\xgboost\\core.py:587: FutureWarning: Series.base is deprecated and will be removed in a future version\n",
      "  if getattr(data, 'base', None) is not None and \\\n",
      "d:\\app\\python\\lib\\site-packages\\xgboost\\core.py:588: FutureWarning: Series.base is deprecated and will be removed in a future version\n",
      "  data.base is not None and isinstance(data, np.ndarray) \\\n"
     ]
    },
    {
     "name": "stdout",
     "output_type": "stream",
     "text": [
      "Cross-Validation Score : 75.936%\n"
     ]
    },
    {
     "name": "stderr",
     "output_type": "stream",
     "text": [
      "d:\\app\\python\\lib\\site-packages\\xgboost\\core.py:587: FutureWarning: Series.base is deprecated and will be removed in a future version\n",
      "  if getattr(data, 'base', None) is not None and \\\n"
     ]
    },
    {
     "name": "stdout",
     "output_type": "stream",
     "text": [
      "Cross-Validation Score : 77.784%\n"
     ]
    },
    {
     "name": "stderr",
     "output_type": "stream",
     "text": [
      "d:\\app\\python\\lib\\site-packages\\xgboost\\core.py:587: FutureWarning: Series.base is deprecated and will be removed in a future version\n",
      "  if getattr(data, 'base', None) is not None and \\\n"
     ]
    },
    {
     "name": "stdout",
     "output_type": "stream",
     "text": [
      "Cross-Validation Score : 77.650%\n"
     ]
    },
    {
     "name": "stderr",
     "output_type": "stream",
     "text": [
      "d:\\app\\python\\lib\\site-packages\\xgboost\\core.py:587: FutureWarning: Series.base is deprecated and will be removed in a future version\n",
      "  if getattr(data, 'base', None) is not None and \\\n"
     ]
    },
    {
     "name": "stdout",
     "output_type": "stream",
     "text": [
      "Cross-Validation Score : 78.061%\n"
     ]
    },
    {
     "name": "stderr",
     "output_type": "stream",
     "text": [
      "d:\\app\\python\\lib\\site-packages\\xgboost\\core.py:587: FutureWarning: Series.base is deprecated and will be removed in a future version\n",
      "  if getattr(data, 'base', None) is not None and \\\n"
     ]
    },
    {
     "name": "stdout",
     "output_type": "stream",
     "text": [
      "Cross-Validation Score : 76.767%\n"
     ]
    },
    {
     "name": "stderr",
     "output_type": "stream",
     "text": [
      "d:\\app\\python\\lib\\site-packages\\xgboost\\core.py:587: FutureWarning: Series.base is deprecated and will be removed in a future version\n",
      "  if getattr(data, 'base', None) is not None and \\\n",
      "d:\\app\\python\\lib\\site-packages\\xgboost\\core.py:588: FutureWarning: Series.base is deprecated and will be removed in a future version\n",
      "  data.base is not None and isinstance(data, np.ndarray) \\\n"
     ]
    },
    {
     "data": {
      "text/plain": [
       "-28.231126621791294"
      ]
     },
     "execution_count": 59,
     "metadata": {},
     "output_type": "execute_result"
    }
   ],
   "source": [
    "regression_model(model_xgb,df_Train_Data,x_train,Y_train)\n",
    "xbg_predictions = model_xgb.predict(x_test).astype(int)\n",
    "#test_prediction =sc_y.inverse_transform(predictions)\n",
    "np.mean(xbg_predictions-Y_test)"
   ]
  },
  {
   "cell_type": "code",
   "execution_count": 56,
   "metadata": {},
   "outputs": [
    {
     "name": "stdout",
     "output_type": "stream",
     "text": [
      "[3500.1414  1943.0269  3251.6602  3535.456    146.89313 2170.559\n",
      " 3383.221   3377.4119   205.57509 3038.0269  2108.4685  3546.0657\n",
      " 3587.1807  2810.1377   722.56854 3017.2654  4192.949   2247.7769\n",
      " 3281.553   2884.4094  2200.1375  2202.9985  3218.157   3297.5896\n",
      " 1295.3696  2187.9397   327.44058 1363.0574  3375.7046  3759.195\n",
      "  441.6245  1862.1974  3011.9724  2954.0332  3521.1472 ]\n"
     ]
    }
   ],
   "source": [
    "print(predictions)"
   ]
  },
  {
   "cell_type": "code",
   "execution_count": 57,
   "metadata": {},
   "outputs": [
    {
     "name": "stdout",
     "output_type": "stream",
     "text": [
      "1      2805\n",
      "13     1164\n",
      "16     3128\n",
      "21     3925\n",
      "22      103\n",
      "25     2778\n",
      "31     3904\n",
      "32     3093\n",
      "33      194\n",
      "41     2599\n",
      "42     2331\n",
      "43     4734\n",
      "48     3254\n",
      "50     2972\n",
      "51      595\n",
      "53     1998\n",
      "55     4789\n",
      "65     1172\n",
      "67     1411\n",
      "68     3667\n",
      "69     2545\n",
      "77     1594\n",
      "78     4572\n",
      "82     3471\n",
      "84     2505\n",
      "85     1171\n",
      "86       48\n",
      "91     2455\n",
      "98     3366\n",
      "109    2910\n",
      "113     424\n",
      "115    3084\n",
      "123    2824\n",
      "124    2999\n",
      "133    4373\n",
      "Name: overall_survival_in_days, dtype: int64\n"
     ]
    }
   ],
   "source": [
    "print(Y_test)"
   ]
  },
  {
   "cell_type": "code",
   "execution_count": 72,
   "metadata": {},
   "outputs": [],
   "source": [
    "prediction = pd.DataFrame(GBoost_predictions, columns=['overall_survival_in_days'])\n",
    "result = pd.concat([ df_Test_Data['id'], prediction], axis=1)\n",
    "result.to_csv('./Predictions.csv', index=False)"
   ]
  },
  {
   "cell_type": "code",
   "execution_count": 69,
   "metadata": {},
   "outputs": [
    {
     "data": {
      "text/plain": [
       "Text(0.5, 1.0, 'test_results_overall_survival_in_days')"
      ]
     },
     "execution_count": 69,
     "metadata": {},
     "output_type": "execute_result"
    },
    {
     "data": {
      "image/png": "[encoded data removed]",
      "text/plain": [
       "<Figure size 432x288 with 1 Axes>"
      ]
     },
     "metadata": {
      "needs_background": "light"
     },
     "output_type": "display_data"
    }
   ],
   "source": [
    "import matplotlib.pyplot as plt\n",
    "x = np.arange(len(df_Test_Data['id']))\n",
    "y1= xbg_predictions\n",
    "y2= Y_test\n",
    "y3=GBoost_predictions\n",
    "plt.plot(x, y1, label = \"XGBRegression\")\n",
    "plt.plot(x, y2, label = \"test\")\n",
    "plt.plot(x, y3, label = \"GBoot\")\n",
    "plt.xlabel('test')\n",
    "plt.ylabel('overall_survival_in_days')\n",
    "plt.title('test_results_overall_survival_in_days')"
   ]
  },
  {
   "cell_type": "code",
   "execution_count": 73,
   "metadata": {},
   "outputs": [],
   "source": [
    "x_train_re = df_Train_Data.drop(['id', 'dataset', 'overall_survival_in_days','recurrence_metastatic_free_survival_in_days'], axis=1)\n",
    "Y_train_re = df_Train_Data['recurrence_metastatic_free_survival_in_days']\n",
    "x = x_train_re.values\n",
    "y = Y_train_re.values"
   ]
  },
  {
   "cell_type": "code",
   "execution_count": 74,
   "metadata": {},
   "outputs": [
    {
     "name": "stderr",
     "output_type": "stream",
     "text": [
      "d:\\app\\python\\lib\\site-packages\\sklearn\\preprocessing\\data.py:645: DataConversionWarning: Data with input dtype int32, int64, float64 were all converted to float64 by StandardScaler.\n",
      "  return self.partial_fit(X, y)\n",
      "d:\\app\\python\\lib\\site-packages\\sklearn\\base.py:464: DataConversionWarning: Data with input dtype int32, int64, float64 were all converted to float64 by StandardScaler.\n",
      "  return self.fit(X, **fit_params).transform(X)\n",
      "d:\\app\\python\\lib\\site-packages\\sklearn\\utils\\validation.py:595: DataConversionWarning: Data with input dtype int64 was converted to float64 by StandardScaler.\n",
      "  warnings.warn(msg, DataConversionWarning)\n",
      "d:\\app\\python\\lib\\site-packages\\sklearn\\utils\\validation.py:595: DataConversionWarning: Data with input dtype int64 was converted to float64 by StandardScaler.\n",
      "  warnings.warn(msg, DataConversionWarning)\n",
      "d:\\app\\python\\lib\\site-packages\\ipykernel_launcher.py:7: DataConversionWarning: Data with input dtype int32, int64, float64 were all converted to float64 by StandardScaler.\n",
      "  import sys\n"
     ]
    }
   ],
   "source": [
    "x_test_re = df_Test_Data.drop(['id', 'dataset', 'overall_survival_in_days','recurrence_metastatic_free_survival_in_days'], axis=1)\n",
    "Y_test_re = df_Test_Data[\"recurrence_metastatic_free_survival_in_days\"]\n"
   ]
  },
  {
   "cell_type": "code",
   "execution_count": 77,
   "metadata": {},
   "outputs": [
    {
     "name": "stdout",
     "output_type": "stream",
     "text": [
      "Cross-Validation Score : 92.590%\n",
      "Cross-Validation Score : 93.470%\n",
      "Cross-Validation Score : 94.462%\n",
      "Cross-Validation Score : 94.903%\n",
      "Cross-Validation Score : 93.517%\n"
     ]
    },
    {
     "data": {
      "text/plain": [
       "-76.68571428571428"
      ]
     },
     "execution_count": 77,
     "metadata": {},
     "output_type": "execute_result"
    }
   ],
   "source": [
    "regression_model(GBoost,df_Train_Data,x_train_re,Y_train_re)\n",
    "GBoost_predictions_re = GBoost.predict(x_test_re).astype(int)\n",
    "#test_prediction =sc_y.inverse_transform(predictions)\n",
    "np.mean(GBoost_predictions_re-Y_test_re)"
   ]
  },
  {
   "cell_type": "code",
   "execution_count": 81,
   "metadata": {},
   "outputs": [
    {
     "data": {
      "text/plain": [
       "Text(0.5, 1.0, 'recurrence_metastatic_free_survival_in_days')"
      ]
     },
     "execution_count": 81,
     "metadata": {},
     "output_type": "execute_result"
    },
    {
     "data": {
      "image/png": "[encoded data removed]",
      "text/plain": [
       "<Figure size 432x288 with 1 Axes>"
      ]
     },
     "metadata": {
      "needs_background": "light"
     },
     "output_type": "display_data"
    }
   ],
   "source": [
    "x = np.arange(len(df_Test_Data['id']))\n",
    "y1= GBoost_predictions_re\n",
    "y2= Y_test_re\n",
    "plt.plot(x, y1, label = \"GBOOtRegression\")\n",
    "plt.plot(x, y2, label = \"test\")\n",
    "plt.xlabel('test')\n",
    "plt.ylabel('recurrence_metastatic_free_survival_in_days')\n",
    "plt.title('recurrence_metastatic_free_survival_in_days')"
   ]
  },
  {
   "cell_type": "code",
   "execution_count": null,
   "metadata": {},
   "outputs": [],
   "source": []
  }
 ],
 "metadata": {
  "kernelspec": {
   "display_name": "Python 3",
   "language": "python",
   "name": "python3"
  },
  "language_info": {
   "codemirror_mode": {
    "name": "ipython",
    "version": 3
   },
   "file_extension": ".py",
   "mimetype": "text/x-python",
   "name": "python",
   "nbconvert_exporter": "python",
   "pygments_lexer": "ipython3",
   "version": "3.6.7"
  }
 },
 "nbformat": 4,
 "nbformat_minor": 2
}
